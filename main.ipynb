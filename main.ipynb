{
 "cells": [
  {
   "cell_type": "markdown",
   "metadata": {},
   "source": [
    "# NLP para Similaridade de Sentenças: Analisando Percepções de Clientes em Avaliações de E-commerce\n",
    "\n",
    "Em um mercado cada vez mais competitivo, entender a percepção dos clientes é essencial para o sucesso de qualquer loja virtual. Este projeto utiliza técnicas avançadas de Processamento de Linguagem Natural (NLP) como NLTK, Word2Vec e Doc2Vec para analisar avaliações de clientes, focando em quatro pilares principais: \n",
    "\n",
    "* Entregas\n",
    "* Vendedores\n",
    "* Produtos\n",
    "* Reputação da loja\n",
    "\n",
    "O objetivo é identificar padrões e similaridades nas opiniões dos consumidores, extraindo insights valiosos que possam direcionar melhorias no serviço e na experiência do cliente. Através da análise de palavras-chave e da similaridade entre sentenças, o modelo desenvolvido junto com a aplicação na pasta 'app.py' oferecem uma visão clara e acionável das principais preocupações e elogios dos clientes, permitindo que a loja tome decisões estratégicas baseadas em dados reais."
   ]
  },
  {
   "cell_type": "markdown",
   "metadata": {
    "id": "IIoLBzyvnIok"
   },
   "source": [
    "# Buscando a similaridade"
   ]
  },
  {
   "cell_type": "code",
   "execution_count": null,
   "metadata": {
    "id": "BIlzVguMUTQX"
   },
   "outputs": [],
   "source": [
    "url = 'https://raw.githubusercontent.com/Mirlaa/NLP-trabalhando-similaridade-sentencas/refs/heads/main/reviews_zoop.csv'"
   ]
  },
  {
   "cell_type": "code",
   "execution_count": null,
   "metadata": {
    "colab": {
     "base_uri": "https://localhost:8080/",
     "height": 423
    },
    "id": "mbNGaorDk240",
    "outputId": "0644b2b9-2601-4265-f54b-5afb7771c8e4"
   },
   "outputs": [
    {
     "data": {
      "application/vnd.google.colaboratory.intrinsic+json": {
       "summary": "{\n  \"name\": \"dados\",\n  \"rows\": 39462,\n  \"fields\": [\n    {\n      \"column\": \"nota_review\",\n      \"properties\": {\n        \"dtype\": \"number\",\n        \"std\": 1,\n        \"min\": 1,\n        \"max\": 5,\n        \"num_unique_values\": 5,\n        \"samples\": [\n          4,\n          3,\n          2\n        ],\n        \"semantic_type\": \"\",\n        \"description\": \"\"\n      }\n    },\n    {\n      \"column\": \"review\",\n      \"properties\": {\n        \"dtype\": \"string\",\n        \"num_unique_values\": 35059,\n        \"samples\": [\n          \"nao gostei \\r\\nporque demou muito para se entregua tive que compra outro produto\\r\\nmais chegou tudo certinho na proxima talvez chega ante do \\u00b4prazo\",\n          \"\\u00d3timo produto, valeu a pena.\",\n          \"O produto \\u00e9 muito bom que chegou bem antes do prazo...parab\\u00e9ns\\ud83d\\ude0a\\ud83d\\udc4f\"\n        ],\n        \"semantic_type\": \"\",\n        \"description\": \"\"\n      }\n    }\n  ]\n}",
       "type": "dataframe",
       "variable_name": "dados"
      },
      "text/html": [
       "\n",
       "  <div id=\"df-1ab379ff-4f86-4c3d-bbce-27bebd846230\" class=\"colab-df-container\">\n",
       "    <div>\n",
       "<style scoped>\n",
       "    .dataframe tbody tr th:only-of-type {\n",
       "        vertical-align: middle;\n",
       "    }\n",
       "\n",
       "    .dataframe tbody tr th {\n",
       "        vertical-align: top;\n",
       "    }\n",
       "\n",
       "    .dataframe thead th {\n",
       "        text-align: right;\n",
       "    }\n",
       "</style>\n",
       "<table border=\"1\" class=\"dataframe\">\n",
       "  <thead>\n",
       "    <tr style=\"text-align: right;\">\n",
       "      <th></th>\n",
       "      <th>nota_review</th>\n",
       "      <th>review</th>\n",
       "    </tr>\n",
       "  </thead>\n",
       "  <tbody>\n",
       "    <tr>\n",
       "      <th>0</th>\n",
       "      <td>5</td>\n",
       "      <td>Recebi bem antes do prazo estipulado.</td>\n",
       "    </tr>\n",
       "    <tr>\n",
       "      <th>1</th>\n",
       "      <td>5</td>\n",
       "      <td>Parabéns lojas Zoop adorei comprar pela Intern...</td>\n",
       "    </tr>\n",
       "    <tr>\n",
       "      <th>2</th>\n",
       "      <td>4</td>\n",
       "      <td>aparelho eficiente. no site a marca do aparelh...</td>\n",
       "    </tr>\n",
       "    <tr>\n",
       "      <th>3</th>\n",
       "      <td>4</td>\n",
       "      <td>Mas um pouco ,travando...pelo valor ta Boa.\\r\\n</td>\n",
       "    </tr>\n",
       "    <tr>\n",
       "      <th>4</th>\n",
       "      <td>5</td>\n",
       "      <td>Vendedor confiável, produto ok e entrega antes...</td>\n",
       "    </tr>\n",
       "    <tr>\n",
       "      <th>...</th>\n",
       "      <td>...</td>\n",
       "      <td>...</td>\n",
       "    </tr>\n",
       "    <tr>\n",
       "      <th>39457</th>\n",
       "      <td>5</td>\n",
       "      <td>Entregou dentro do prazo. O produto chegou em ...</td>\n",
       "    </tr>\n",
       "    <tr>\n",
       "      <th>39458</th>\n",
       "      <td>3</td>\n",
       "      <td>O produto não foi enviado com NF, não existe v...</td>\n",
       "    </tr>\n",
       "    <tr>\n",
       "      <th>39459</th>\n",
       "      <td>5</td>\n",
       "      <td>Excelente mochila, entrega super rápida. Super...</td>\n",
       "    </tr>\n",
       "    <tr>\n",
       "      <th>39460</th>\n",
       "      <td>1</td>\n",
       "      <td>Solicitei a compra de uma capa de retrovisor c...</td>\n",
       "    </tr>\n",
       "    <tr>\n",
       "      <th>39461</th>\n",
       "      <td>1</td>\n",
       "      <td>meu produto chegou e ja tenho que devolver, po...</td>\n",
       "    </tr>\n",
       "  </tbody>\n",
       "</table>\n",
       "<p>39462 rows × 2 columns</p>\n",
       "</div>\n",
       "    <div class=\"colab-df-buttons\">\n",
       "\n",
       "  <div class=\"colab-df-container\">\n",
       "    <button class=\"colab-df-convert\" onclick=\"convertToInteractive('df-1ab379ff-4f86-4c3d-bbce-27bebd846230')\"\n",
       "            title=\"Convert this dataframe to an interactive table.\"\n",
       "            style=\"display:none;\">\n",
       "\n",
       "  <svg xmlns=\"http://www.w3.org/2000/svg\" height=\"24px\" viewBox=\"0 -960 960 960\">\n",
       "    <path d=\"M120-120v-720h720v720H120Zm60-500h600v-160H180v160Zm220 220h160v-160H400v160Zm0 220h160v-160H400v160ZM180-400h160v-160H180v160Zm440 0h160v-160H620v160ZM180-180h160v-160H180v160Zm440 0h160v-160H620v160Z\"/>\n",
       "  </svg>\n",
       "    </button>\n",
       "\n",
       "  <style>\n",
       "    .colab-df-container {\n",
       "      display:flex;\n",
       "      gap: 12px;\n",
       "    }\n",
       "\n",
       "    .colab-df-convert {\n",
       "      background-color: #E8F0FE;\n",
       "      border: none;\n",
       "      border-radius: 50%;\n",
       "      cursor: pointer;\n",
       "      display: none;\n",
       "      fill: #1967D2;\n",
       "      height: 32px;\n",
       "      padding: 0 0 0 0;\n",
       "      width: 32px;\n",
       "    }\n",
       "\n",
       "    .colab-df-convert:hover {\n",
       "      background-color: #E2EBFA;\n",
       "      box-shadow: 0px 1px 2px rgba(60, 64, 67, 0.3), 0px 1px 3px 1px rgba(60, 64, 67, 0.15);\n",
       "      fill: #174EA6;\n",
       "    }\n",
       "\n",
       "    .colab-df-buttons div {\n",
       "      margin-bottom: 4px;\n",
       "    }\n",
       "\n",
       "    [theme=dark] .colab-df-convert {\n",
       "      background-color: #3B4455;\n",
       "      fill: #D2E3FC;\n",
       "    }\n",
       "\n",
       "    [theme=dark] .colab-df-convert:hover {\n",
       "      background-color: #434B5C;\n",
       "      box-shadow: 0px 1px 3px 1px rgba(0, 0, 0, 0.15);\n",
       "      filter: drop-shadow(0px 1px 2px rgba(0, 0, 0, 0.3));\n",
       "      fill: #FFFFFF;\n",
       "    }\n",
       "  </style>\n",
       "\n",
       "    <script>\n",
       "      const buttonEl =\n",
       "        document.querySelector('#df-1ab379ff-4f86-4c3d-bbce-27bebd846230 button.colab-df-convert');\n",
       "      buttonEl.style.display =\n",
       "        google.colab.kernel.accessAllowed ? 'block' : 'none';\n",
       "\n",
       "      async function convertToInteractive(key) {\n",
       "        const element = document.querySelector('#df-1ab379ff-4f86-4c3d-bbce-27bebd846230');\n",
       "        const dataTable =\n",
       "          await google.colab.kernel.invokeFunction('convertToInteractive',\n",
       "                                                    [key], {});\n",
       "        if (!dataTable) return;\n",
       "\n",
       "        const docLinkHtml = 'Like what you see? Visit the ' +\n",
       "          '<a target=\"_blank\" href=https://colab.research.google.com/notebooks/data_table.ipynb>data table notebook</a>'\n",
       "          + ' to learn more about interactive tables.';\n",
       "        element.innerHTML = '';\n",
       "        dataTable['output_type'] = 'display_data';\n",
       "        await google.colab.output.renderOutput(dataTable, element);\n",
       "        const docLink = document.createElement('div');\n",
       "        docLink.innerHTML = docLinkHtml;\n",
       "        element.appendChild(docLink);\n",
       "      }\n",
       "    </script>\n",
       "  </div>\n",
       "\n",
       "\n",
       "<div id=\"df-f0361b7e-351b-4f5d-9f97-ea3a7b71adf7\">\n",
       "  <button class=\"colab-df-quickchart\" onclick=\"quickchart('df-f0361b7e-351b-4f5d-9f97-ea3a7b71adf7')\"\n",
       "            title=\"Suggest charts\"\n",
       "            style=\"display:none;\">\n",
       "\n",
       "<svg xmlns=\"http://www.w3.org/2000/svg\" height=\"24px\"viewBox=\"0 0 24 24\"\n",
       "     width=\"24px\">\n",
       "    <g>\n",
       "        <path d=\"M19 3H5c-1.1 0-2 .9-2 2v14c0 1.1.9 2 2 2h14c1.1 0 2-.9 2-2V5c0-1.1-.9-2-2-2zM9 17H7v-7h2v7zm4 0h-2V7h2v10zm4 0h-2v-4h2v4z\"/>\n",
       "    </g>\n",
       "</svg>\n",
       "  </button>\n",
       "\n",
       "<style>\n",
       "  .colab-df-quickchart {\n",
       "      --bg-color: #E8F0FE;\n",
       "      --fill-color: #1967D2;\n",
       "      --hover-bg-color: #E2EBFA;\n",
       "      --hover-fill-color: #174EA6;\n",
       "      --disabled-fill-color: #AAA;\n",
       "      --disabled-bg-color: #DDD;\n",
       "  }\n",
       "\n",
       "  [theme=dark] .colab-df-quickchart {\n",
       "      --bg-color: #3B4455;\n",
       "      --fill-color: #D2E3FC;\n",
       "      --hover-bg-color: #434B5C;\n",
       "      --hover-fill-color: #FFFFFF;\n",
       "      --disabled-bg-color: #3B4455;\n",
       "      --disabled-fill-color: #666;\n",
       "  }\n",
       "\n",
       "  .colab-df-quickchart {\n",
       "    background-color: var(--bg-color);\n",
       "    border: none;\n",
       "    border-radius: 50%;\n",
       "    cursor: pointer;\n",
       "    display: none;\n",
       "    fill: var(--fill-color);\n",
       "    height: 32px;\n",
       "    padding: 0;\n",
       "    width: 32px;\n",
       "  }\n",
       "\n",
       "  .colab-df-quickchart:hover {\n",
       "    background-color: var(--hover-bg-color);\n",
       "    box-shadow: 0 1px 2px rgba(60, 64, 67, 0.3), 0 1px 3px 1px rgba(60, 64, 67, 0.15);\n",
       "    fill: var(--button-hover-fill-color);\n",
       "  }\n",
       "\n",
       "  .colab-df-quickchart-complete:disabled,\n",
       "  .colab-df-quickchart-complete:disabled:hover {\n",
       "    background-color: var(--disabled-bg-color);\n",
       "    fill: var(--disabled-fill-color);\n",
       "    box-shadow: none;\n",
       "  }\n",
       "\n",
       "  .colab-df-spinner {\n",
       "    border: 2px solid var(--fill-color);\n",
       "    border-color: transparent;\n",
       "    border-bottom-color: var(--fill-color);\n",
       "    animation:\n",
       "      spin 1s steps(1) infinite;\n",
       "  }\n",
       "\n",
       "  @keyframes spin {\n",
       "    0% {\n",
       "      border-color: transparent;\n",
       "      border-bottom-color: var(--fill-color);\n",
       "      border-left-color: var(--fill-color);\n",
       "    }\n",
       "    20% {\n",
       "      border-color: transparent;\n",
       "      border-left-color: var(--fill-color);\n",
       "      border-top-color: var(--fill-color);\n",
       "    }\n",
       "    30% {\n",
       "      border-color: transparent;\n",
       "      border-left-color: var(--fill-color);\n",
       "      border-top-color: var(--fill-color);\n",
       "      border-right-color: var(--fill-color);\n",
       "    }\n",
       "    40% {\n",
       "      border-color: transparent;\n",
       "      border-right-color: var(--fill-color);\n",
       "      border-top-color: var(--fill-color);\n",
       "    }\n",
       "    60% {\n",
       "      border-color: transparent;\n",
       "      border-right-color: var(--fill-color);\n",
       "    }\n",
       "    80% {\n",
       "      border-color: transparent;\n",
       "      border-right-color: var(--fill-color);\n",
       "      border-bottom-color: var(--fill-color);\n",
       "    }\n",
       "    90% {\n",
       "      border-color: transparent;\n",
       "      border-bottom-color: var(--fill-color);\n",
       "    }\n",
       "  }\n",
       "</style>\n",
       "\n",
       "  <script>\n",
       "    async function quickchart(key) {\n",
       "      const quickchartButtonEl =\n",
       "        document.querySelector('#' + key + ' button');\n",
       "      quickchartButtonEl.disabled = true;  // To prevent multiple clicks.\n",
       "      quickchartButtonEl.classList.add('colab-df-spinner');\n",
       "      try {\n",
       "        const charts = await google.colab.kernel.invokeFunction(\n",
       "            'suggestCharts', [key], {});\n",
       "      } catch (error) {\n",
       "        console.error('Error during call to suggestCharts:', error);\n",
       "      }\n",
       "      quickchartButtonEl.classList.remove('colab-df-spinner');\n",
       "      quickchartButtonEl.classList.add('colab-df-quickchart-complete');\n",
       "    }\n",
       "    (() => {\n",
       "      let quickchartButtonEl =\n",
       "        document.querySelector('#df-f0361b7e-351b-4f5d-9f97-ea3a7b71adf7 button');\n",
       "      quickchartButtonEl.style.display =\n",
       "        google.colab.kernel.accessAllowed ? 'block' : 'none';\n",
       "    })();\n",
       "  </script>\n",
       "</div>\n",
       "\n",
       "  <div id=\"id_7d1990f4-6d69-4a66-81da-be11d4616d5f\">\n",
       "    <style>\n",
       "      .colab-df-generate {\n",
       "        background-color: #E8F0FE;\n",
       "        border: none;\n",
       "        border-radius: 50%;\n",
       "        cursor: pointer;\n",
       "        display: none;\n",
       "        fill: #1967D2;\n",
       "        height: 32px;\n",
       "        padding: 0 0 0 0;\n",
       "        width: 32px;\n",
       "      }\n",
       "\n",
       "      .colab-df-generate:hover {\n",
       "        background-color: #E2EBFA;\n",
       "        box-shadow: 0px 1px 2px rgba(60, 64, 67, 0.3), 0px 1px 3px 1px rgba(60, 64, 67, 0.15);\n",
       "        fill: #174EA6;\n",
       "      }\n",
       "\n",
       "      [theme=dark] .colab-df-generate {\n",
       "        background-color: #3B4455;\n",
       "        fill: #D2E3FC;\n",
       "      }\n",
       "\n",
       "      [theme=dark] .colab-df-generate:hover {\n",
       "        background-color: #434B5C;\n",
       "        box-shadow: 0px 1px 3px 1px rgba(0, 0, 0, 0.15);\n",
       "        filter: drop-shadow(0px 1px 2px rgba(0, 0, 0, 0.3));\n",
       "        fill: #FFFFFF;\n",
       "      }\n",
       "    </style>\n",
       "    <button class=\"colab-df-generate\" onclick=\"generateWithVariable('dados')\"\n",
       "            title=\"Generate code using this dataframe.\"\n",
       "            style=\"display:none;\">\n",
       "\n",
       "  <svg xmlns=\"http://www.w3.org/2000/svg\" height=\"24px\"viewBox=\"0 0 24 24\"\n",
       "       width=\"24px\">\n",
       "    <path d=\"M7,19H8.4L18.45,9,17,7.55,7,17.6ZM5,21V16.75L18.45,3.32a2,2,0,0,1,2.83,0l1.4,1.43a1.91,1.91,0,0,1,.58,1.4,1.91,1.91,0,0,1-.58,1.4L9.25,21ZM18.45,9,17,7.55Zm-12,3A5.31,5.31,0,0,0,4.9,8.1,5.31,5.31,0,0,0,1,6.5,5.31,5.31,0,0,0,4.9,4.9,5.31,5.31,0,0,0,6.5,1,5.31,5.31,0,0,0,8.1,4.9,5.31,5.31,0,0,0,12,6.5,5.46,5.46,0,0,0,6.5,12Z\"/>\n",
       "  </svg>\n",
       "    </button>\n",
       "    <script>\n",
       "      (() => {\n",
       "      const buttonEl =\n",
       "        document.querySelector('#id_7d1990f4-6d69-4a66-81da-be11d4616d5f button.colab-df-generate');\n",
       "      buttonEl.style.display =\n",
       "        google.colab.kernel.accessAllowed ? 'block' : 'none';\n",
       "\n",
       "      buttonEl.onclick = () => {\n",
       "        google.colab.notebook.generateWithVariable('dados');\n",
       "      }\n",
       "      })();\n",
       "    </script>\n",
       "  </div>\n",
       "\n",
       "    </div>\n",
       "  </div>\n"
      ],
      "text/plain": [
       "       nota_review                                             review\n",
       "0                5              Recebi bem antes do prazo estipulado.\n",
       "1                5  Parabéns lojas Zoop adorei comprar pela Intern...\n",
       "2                4  aparelho eficiente. no site a marca do aparelh...\n",
       "3                4    Mas um pouco ,travando...pelo valor ta Boa.\\r\\n\n",
       "4                5  Vendedor confiável, produto ok e entrega antes...\n",
       "...            ...                                                ...\n",
       "39457            5  Entregou dentro do prazo. O produto chegou em ...\n",
       "39458            3  O produto não foi enviado com NF, não existe v...\n",
       "39459            5  Excelente mochila, entrega super rápida. Super...\n",
       "39460            1  Solicitei a compra de uma capa de retrovisor c...\n",
       "39461            1  meu produto chegou e ja tenho que devolver, po...\n",
       "\n",
       "[39462 rows x 2 columns]"
      ]
     },
     "execution_count": 2,
     "metadata": {},
     "output_type": "execute_result"
    }
   ],
   "source": [
    "import pandas as pd\n",
    "\n",
    "dados = pd.read_csv(url)\n",
    "dados"
   ]
  },
  {
   "cell_type": "code",
   "execution_count": null,
   "metadata": {
    "colab": {
     "base_uri": "https://localhost:8080/",
     "height": 36
    },
    "id": "utoF08I2UY6f",
    "outputId": "bbfe06d8-6bc4-4344-8aaa-0527ab21fe47"
   },
   "outputs": [
    {
     "data": {
      "application/vnd.google.colaboratory.intrinsic+json": {
       "type": "string"
      },
      "text/plain": [
       "'Parabéns lojas Zoop adorei comprar pela Internet seguro e prático Parabéns a todos feliz Páscoa'"
      ]
     },
     "execution_count": 3,
     "metadata": {},
     "output_type": "execute_result"
    }
   ],
   "source": [
    "dados['review'][1]"
   ]
  },
  {
   "cell_type": "code",
   "execution_count": null,
   "metadata": {
    "colab": {
     "base_uri": "https://localhost:8080/",
     "height": 53
    },
    "id": "HuCP4vGynQdf",
    "outputId": "c9e21863-c105-483d-940a-d3d70ae3ec38"
   },
   "outputs": [
    {
     "data": {
      "application/vnd.google.colaboratory.intrinsic+json": {
       "type": "string"
      },
      "text/plain": [
       "'A compra foi realizada facilmente.\\r\\nA entrega foi efetuada muito antes do prazo dado.\\r\\nO produto já começou a ser usado e até o presente,\\r\\nsem problemas.'"
      ]
     },
     "execution_count": 4,
     "metadata": {},
     "output_type": "execute_result"
    }
   ],
   "source": [
    "dados['review'][8]"
   ]
  },
  {
   "cell_type": "code",
   "execution_count": null,
   "metadata": {
    "colab": {
     "base_uri": "https://localhost:8080/",
     "height": 53
    },
    "id": "_ToYhtf6nRyR",
    "outputId": "10ac95f4-2dbf-4652-faa8-038ef8f2e3b6"
   },
   "outputs": [
    {
     "data": {
      "application/vnd.google.colaboratory.intrinsic+json": {
       "type": "string"
      },
      "text/plain": [
       "'Sempre compro pela Internet e a entrega ocorre antes do prazo combinado, que acredito ser o prazo máximo. No  o prazo máximo já se esgotou e ainda não recebi o produto.'"
      ]
     },
     "execution_count": 5,
     "metadata": {},
     "output_type": "execute_result"
    }
   ],
   "source": [
    "dados['review'][11]"
   ]
  },
  {
   "cell_type": "code",
   "execution_count": null,
   "metadata": {
    "colab": {
     "base_uri": "https://localhost:8080/",
     "height": 36
    },
    "id": "IJFSJoLGkys2",
    "outputId": "5a243c70-752f-4dd1-fcf3-413fdcec5fc4"
   },
   "outputs": [
    {
     "data": {
      "application/vnd.google.colaboratory.intrinsic+json": {
       "type": "string"
      },
      "text/plain": [
       "'otimo vendedor chegou ate antes do prazo , adorei o produto'"
      ]
     },
     "execution_count": 6,
     "metadata": {},
     "output_type": "execute_result"
    }
   ],
   "source": [
    "dados['review'][18]"
   ]
  },
  {
   "cell_type": "markdown",
   "metadata": {
    "id": "3hl_YbZyndPA"
   },
   "source": [
    "**Similaridade entre as palavras**"
   ]
  },
  {
   "cell_type": "code",
   "execution_count": null,
   "metadata": {
    "id": "OjeelLhY1b6R"
   },
   "outputs": [],
   "source": [
    "from nltk.tokenize import word_tokenize\n",
    "from functools import partial\n",
    "\n",
    "word_tokenize_pt = partial(word_tokenize, language = 'portuguese')"
   ]
  },
  {
   "cell_type": "code",
   "execution_count": null,
   "metadata": {
    "colab": {
     "base_uri": "https://localhost:8080/"
    },
    "id": "YMs4qsux1byZ",
    "outputId": "fdad6471-3e87-4601-8887-2d7202b35817"
   },
   "outputs": [
    {
     "name": "stderr",
     "output_type": "stream",
     "text": [
      "[nltk_data] Downloading package punkt to /root/nltk_data...\n",
      "[nltk_data]   Package punkt is already up-to-date!\n"
     ]
    },
    {
     "data": {
      "text/plain": [
       "True"
      ]
     },
     "execution_count": 8,
     "metadata": {},
     "output_type": "execute_result"
    }
   ],
   "source": [
    "import nltk\n",
    "nltk.download('punkt')"
   ]
  },
  {
   "cell_type": "code",
   "execution_count": null,
   "metadata": {
    "id": "zJTyyAP6Uxhe"
   },
   "outputs": [],
   "source": [
    "from gensim.models import Word2Vec\n",
    "\n",
    "modelo = Word2Vec(sentences = dados['review'].apply(word_tokenize_pt),\n",
    "                  vector_size=100, min_count=1, window=5,\n",
    "                  workers=1, seed=45)"
   ]
  },
  {
   "cell_type": "code",
   "execution_count": null,
   "metadata": {
    "colab": {
     "base_uri": "https://localhost:8080/"
    },
    "id": "3YZuXLjgU5KA",
    "outputId": "d086c067-8d5c-4f1b-9847-c7bc8caa0208"
   },
   "outputs": [
    {
     "data": {
      "text/plain": [
       "[('Entrega', 0.7526029944419861),\n",
       " ('entregue', 0.7109662294387817),\n",
       " ('compra', 0.6985824108123779),\n",
       " ('chegou', 0.6755236983299255),\n",
       " ('entregou', 0.6542965769767761),\n",
       " ('envio', 0.6249788403511047),\n",
       " ('cadastrado', 0.6161651611328125),\n",
       " ('Chegou', 0.6127404570579529),\n",
       " ('preparar', 0.6111896634101868),\n",
       " ('mercadoria', 0.6036772727966309)]"
      ]
     },
     "execution_count": 10,
     "metadata": {},
     "output_type": "execute_result"
    }
   ],
   "source": [
    "modelo.wv.most_similar('entrega')"
   ]
  },
  {
   "cell_type": "code",
   "execution_count": null,
   "metadata": {
    "colab": {
     "base_uri": "https://localhost:8080/"
    },
    "id": "2vAqS1gbU5E6",
    "outputId": "b28f3bab-fac2-4ff0-d0d4-d7d248ed6cf6"
   },
   "outputs": [
    {
     "data": {
      "text/plain": [
       "[('atendimento', 0.8607712388038635),\n",
       " ('serviço', 0.8035672307014465),\n",
       " ('fornecedor', 0.7637899518013),\n",
       " ('veiculo', 0.7295382022857666),\n",
       " ('produto', 0.729019284248352),\n",
       " ('processo', 0.710643470287323),\n",
       " ('parceiro', 0.702766478061676),\n",
       " ('cumpriu', 0.6967913508415222),\n",
       " ('trabalho', 0.6896953582763672),\n",
       " ('cumpriram', 0.6866145133972168)]"
      ]
     },
     "execution_count": 11,
     "metadata": {},
     "output_type": "execute_result"
    }
   ],
   "source": [
    "modelo.wv.most_similar('vendedor')"
   ]
  },
  {
   "cell_type": "code",
   "execution_count": null,
   "metadata": {
    "colab": {
     "base_uri": "https://localhost:8080/"
    },
    "id": "c__2Z8QjU499",
    "outputId": "6712e566-d2c5-4f78-c5e7-80af30540b55"
   },
   "outputs": [
    {
     "data": {
      "text/plain": [
       "[('relógio', 0.7635505199432373),\n",
       " ('pedido', 0.7503548860549927),\n",
       " ('vendedor', 0.729019284248352),\n",
       " ('endereço', 0.7101667523384094),\n",
       " ('Produto', 0.6988608837127686),\n",
       " ('mesmo', 0.6944952607154846),\n",
       " ('tempo', 0.678637683391571),\n",
       " ('Mas', 0.673784077167511),\n",
       " ('porém', 0.6504761576652527),\n",
       " ('mercadoria', 0.6491450667381287)]"
      ]
     },
     "execution_count": 12,
     "metadata": {},
     "output_type": "execute_result"
    }
   ],
   "source": [
    "modelo.wv.most_similar('produto')"
   ]
  },
  {
   "cell_type": "markdown",
   "metadata": {
    "id": "bHppHfK1yh2b"
   },
   "source": [
    "**Similaridade entre sentenças**"
   ]
  },
  {
   "cell_type": "code",
   "execution_count": null,
   "metadata": {
    "id": "RPa_4yJeVDQY"
   },
   "outputs": [],
   "source": [
    "dados['review_token'] = dados['review'].apply(word_tokenize_pt)"
   ]
  },
  {
   "cell_type": "code",
   "execution_count": null,
   "metadata": {
    "id": "GVCAOlWSVDJ6"
   },
   "outputs": [],
   "source": [
    "from gensim.models.doc2vec import TaggedDocument\n",
    "\n",
    "dados_tag = [TaggedDocument(words=linha['review_token'], tags=[str(i)]) for i, linha in dados.iterrows()]"
   ]
  },
  {
   "cell_type": "code",
   "execution_count": null,
   "metadata": {
    "colab": {
     "base_uri": "https://localhost:8080/"
    },
    "collapsed": true,
    "id": "JJrHTHyMVITX",
    "outputId": "64a4009d-6bff-47d9-9a9f-7665d64899b8"
   },
   "outputs": [],
   "source": [
    "# dados_tag"
   ]
  },
  {
   "cell_type": "code",
   "execution_count": null,
   "metadata": {
    "id": "pegHRCxUVJZ5"
   },
   "outputs": [],
   "source": [
    "from gensim.models import Doc2Vec\n",
    "\n",
    "modelo = Doc2Vec(dados_tag, vector_size=100, min_count=2, window=2,\n",
    "                 workers= 1, seed=45, epochs=20)"
   ]
  },
  {
   "cell_type": "code",
   "execution_count": null,
   "metadata": {
    "colab": {
     "base_uri": "https://localhost:8080/"
    },
    "id": "joFjM1ZeVNHA",
    "outputId": "76fc594d-274e-45a7-aa2c-9cf4df9fe427"
   },
   "outputs": [
    {
     "data": {
      "text/plain": [
       "array([-1.64769620e-01, -4.19039913e-02,  4.54760119e-02, -3.79462056e-02,\n",
       "        5.01080491e-02,  9.11147520e-02, -6.34148195e-02, -1.34524927e-02,\n",
       "       -1.44093094e-04, -8.93729702e-02, -8.32309127e-02,  6.39296416e-03,\n",
       "       -1.13408774e-01,  2.26794947e-02, -5.24243526e-02, -8.90790075e-02,\n",
       "        4.26806416e-03,  5.67897819e-02, -7.33350264e-03, -4.51776519e-04,\n",
       "        2.68019903e-02, -4.48587239e-02,  6.47819713e-02,  2.54743416e-02,\n",
       "        4.34280699e-03, -5.58641972e-03, -1.45101354e-01, -5.51957004e-02,\n",
       "       -2.37516519e-02, -4.98959906e-02,  8.09897929e-02,  3.47317606e-02,\n",
       "        2.39257645e-02,  7.19653517e-02,  4.09114398e-02, -8.42812844e-03,\n",
       "       -8.25305060e-02,  1.40931830e-01, -1.23146042e-01, -1.24326143e-02,\n",
       "        8.56279396e-04,  1.19140306e-02,  2.38020960e-02, -6.98463097e-02,\n",
       "       -6.39492720e-02, -3.93858925e-02,  2.58012526e-02, -5.63793350e-03,\n",
       "       -8.53652507e-02, -2.06154697e-02,  3.98675874e-02,  1.44594358e-02,\n",
       "        1.33702401e-02, -1.30390283e-02,  6.22284152e-02, -1.67827949e-01,\n",
       "        1.85730832e-03,  3.75886559e-02, -5.75352088e-02, -8.52775872e-02,\n",
       "        1.73251852e-02,  4.57353657e-03,  1.39215095e-02, -8.22586268e-02,\n",
       "       -7.97502231e-03,  3.52681731e-03, -1.26321996e-02,  1.27346525e-02,\n",
       "        2.97153387e-02,  5.66098690e-02, -1.02107897e-02, -9.56945345e-02,\n",
       "        7.10890768e-03,  4.33823615e-02,  3.71651612e-02,  2.57770508e-03,\n",
       "       -8.56250301e-02,  1.28495181e-02, -1.17691616e-02, -1.06816217e-02,\n",
       "        5.43306991e-02,  7.11552501e-02,  2.62766704e-02,  4.18101177e-02,\n",
       "        1.32385939e-01,  9.06422213e-02, -1.18223064e-01,  6.91905618e-02,\n",
       "        1.44152809e-02,  8.88124704e-02,  1.56804472e-02,  1.65616861e-03,\n",
       "       -2.97884159e-02, -2.21279450e-03,  3.44381109e-02, -7.01104430e-03,\n",
       "        6.40101079e-03,  4.53412533e-02, -2.78560147e-02,  9.92778316e-02],\n",
       "      dtype=float32)"
      ]
     },
     "execution_count": 17,
     "metadata": {},
     "output_type": "execute_result"
    }
   ],
   "source": [
    "vetor_inferido = modelo.infer_vector(['entrega'])\n",
    "vetor_inferido"
   ]
  },
  {
   "cell_type": "code",
   "execution_count": null,
   "metadata": {
    "colab": {
     "base_uri": "https://localhost:8080/"
    },
    "id": "MSDFWvqxVNBt",
    "outputId": "09c2198b-3595-4f83-8821-2c3a89e86f4c"
   },
   "outputs": [
    {
     "data": {
      "text/plain": [
       "[('24666', 0.8576596975326538),\n",
       " ('9304', 0.8565875887870789),\n",
       " ('33496', 0.8525092601776123),\n",
       " ('7314', 0.845014750957489),\n",
       " ('15598', 0.8377625942230225)]"
      ]
     },
     "execution_count": 18,
     "metadata": {},
     "output_type": "execute_result"
    }
   ],
   "source": [
    "frases_similares = modelo.dv.most_similar([vetor_inferido],topn=5)\n",
    "frases_similares"
   ]
  },
  {
   "cell_type": "code",
   "execution_count": null,
   "metadata": {
    "colab": {
     "base_uri": "https://localhost:8080/"
    },
    "id": "aYizgudGyjnv",
    "outputId": "5d4d5f3e-e903-4e21-b272-fbb30314e0ab"
   },
   "outputs": [
    {
     "name": "stdout",
     "output_type": "stream",
     "text": [
      "Review: entrega antes do prazo - Similaridade: 0.8577\n",
      "Review: entrega no prazo. - Similaridade: 0.8566\n",
      "Review: Ainda estou esperando a entrega!  - Similaridade: 0.8525\n",
      "Review: entrega antes do prazo. - Similaridade: 0.8450\n",
      "Review: Rever a política de entrega  - Similaridade: 0.8378\n"
     ]
    }
   ],
   "source": [
    "for idx, similaridade in frases_similares:\n",
    "    print(f\"Review: {dados.iloc[int(idx)]['review']} - Similaridade: {similaridade:.4f}\")"
   ]
  },
  {
   "cell_type": "markdown",
   "metadata": {
    "id": "CZ1znWU22J0F"
   },
   "source": [
    "# Ajustando os textos de review"
   ]
  },
  {
   "cell_type": "code",
   "execution_count": null,
   "metadata": {
    "colab": {
     "base_uri": "https://localhost:8080/"
    },
    "id": "FlVBuawXWnYq",
    "outputId": "ee25786d-fcaf-4f72-f7fe-495805676622"
   },
   "outputs": [
    {
     "name": "stderr",
     "output_type": "stream",
     "text": [
      "[nltk_data] Downloading package stopwords to /root/nltk_data...\n",
      "[nltk_data]   Package stopwords is already up-to-date!\n"
     ]
    },
    {
     "data": {
      "text/plain": [
       "True"
      ]
     },
     "execution_count": 20,
     "metadata": {},
     "output_type": "execute_result"
    }
   ],
   "source": [
    "nltk.download('stopwords')"
   ]
  },
  {
   "cell_type": "code",
   "execution_count": null,
   "metadata": {
    "id": "XirixJuxWoTZ"
   },
   "outputs": [],
   "source": [
    "import re\n",
    "from nltk.corpus import stopwords\n",
    "\n",
    "def tratamento_inicial(texto):\n",
    "    \"\"\"\n",
    "    Função para pré-processamento de texto:\n",
    "    - Converte o texto para minúsculas\n",
    "    - Remove caracteres não alfanuméricos\n",
    "    - Tokeniza o texto\n",
    "    - Remove stopwords, exceto 'não'\n",
    "    \"\"\"\n",
    "    \n",
    "    # Substitui caracteres não alfanuméricos por espaço e converte para minúsculas\n",
    "    texto = re.sub(r'\\W', ' ', texto.lower())\n",
    "    \n",
    "    # Tokeniza o texto\n",
    "    tokens = word_tokenize(texto, language='portuguese')\n",
    "    \n",
    "    # Define o conjunto de stopwords do português\n",
    "    stop_words = set(stopwords.words('portuguese'))\n",
    "    \n",
    "    # Remove 'não' das stopwords para preservar sua importância semântica\n",
    "    stop_words.discard('não')\n",
    "    \n",
    "    # Retorna o texto sem as stopwords\n",
    "    return ' '.join([w for w in tokens if w not in stop_words])"
   ]
  },
  {
   "cell_type": "code",
   "execution_count": null,
   "metadata": {
    "id": "sZAXP2FlWzyV"
   },
   "outputs": [],
   "source": [
    "dados['tratamento_1'] = dados['review'].apply(tratamento_inicial)"
   ]
  },
  {
   "cell_type": "code",
   "execution_count": null,
   "metadata": {
    "colab": {
     "base_uri": "https://localhost:8080/",
     "height": 458
    },
    "id": "cLN7vvBpWzV8",
    "outputId": "3d3a7af2-10f3-45c5-8b8b-db4f9920fb62"
   },
   "outputs": [
    {
     "data": {
      "text/html": [
       "<div>\n",
       "<style scoped>\n",
       "    .dataframe tbody tr th:only-of-type {\n",
       "        vertical-align: middle;\n",
       "    }\n",
       "\n",
       "    .dataframe tbody tr th {\n",
       "        vertical-align: top;\n",
       "    }\n",
       "\n",
       "    .dataframe thead th {\n",
       "        text-align: right;\n",
       "    }\n",
       "</style>\n",
       "<table border=\"1\" class=\"dataframe\">\n",
       "  <thead>\n",
       "    <tr style=\"text-align: right;\">\n",
       "      <th></th>\n",
       "      <th>tratamento_1</th>\n",
       "    </tr>\n",
       "  </thead>\n",
       "  <tbody>\n",
       "    <tr>\n",
       "      <th>0</th>\n",
       "      <td>recebi bem antes prazo estipulado</td>\n",
       "    </tr>\n",
       "    <tr>\n",
       "      <th>1</th>\n",
       "      <td>parabéns lojas zoop adorei comprar internet se...</td>\n",
       "    </tr>\n",
       "    <tr>\n",
       "      <th>2</th>\n",
       "      <td>aparelho eficiente site marca aparelho impress...</td>\n",
       "    </tr>\n",
       "    <tr>\n",
       "      <th>3</th>\n",
       "      <td>pouco travando valor ta boa</td>\n",
       "    </tr>\n",
       "    <tr>\n",
       "      <th>4</th>\n",
       "      <td>vendedor confiável produto ok entrega antes prazo</td>\n",
       "    </tr>\n",
       "    <tr>\n",
       "      <th>...</th>\n",
       "      <td>...</td>\n",
       "    </tr>\n",
       "    <tr>\n",
       "      <th>39457</th>\n",
       "      <td>entregou dentro prazo produto chegou condições...</td>\n",
       "    </tr>\n",
       "    <tr>\n",
       "      <th>39458</th>\n",
       "      <td>produto não enviado nf não existe venda nf cer...</td>\n",
       "    </tr>\n",
       "    <tr>\n",
       "      <th>39459</th>\n",
       "      <td>excelente mochila entrega super rápida super r...</td>\n",
       "    </tr>\n",
       "    <tr>\n",
       "      <th>39460</th>\n",
       "      <td>solicitei compra capa retrovisor celta prisma ...</td>\n",
       "    </tr>\n",
       "    <tr>\n",
       "      <th>39461</th>\n",
       "      <td>produto chegou ja devolver pois defeito não se...</td>\n",
       "    </tr>\n",
       "  </tbody>\n",
       "</table>\n",
       "<p>39462 rows × 1 columns</p>\n",
       "</div><br><label><b>dtype:</b> object</label>"
      ],
      "text/plain": [
       "0                        recebi bem antes prazo estipulado\n",
       "1        parabéns lojas zoop adorei comprar internet se...\n",
       "2        aparelho eficiente site marca aparelho impress...\n",
       "3                              pouco travando valor ta boa\n",
       "4        vendedor confiável produto ok entrega antes prazo\n",
       "                               ...                        \n",
       "39457    entregou dentro prazo produto chegou condições...\n",
       "39458    produto não enviado nf não existe venda nf cer...\n",
       "39459    excelente mochila entrega super rápida super r...\n",
       "39460    solicitei compra capa retrovisor celta prisma ...\n",
       "39461    produto chegou ja devolver pois defeito não se...\n",
       "Name: tratamento_1, Length: 39462, dtype: object"
      ]
     },
     "execution_count": 23,
     "metadata": {},
     "output_type": "execute_result"
    }
   ],
   "source": [
    "dados['tratamento_1']"
   ]
  },
  {
   "cell_type": "code",
   "execution_count": null,
   "metadata": {
    "colab": {
     "base_uri": "https://localhost:8080/",
     "height": 53
    },
    "id": "OXyOnGZX5WQC",
    "outputId": "103bb79f-f044-4518-b438-8e128dab25ed"
   },
   "outputs": [
    {
     "data": {
      "application/vnd.google.colaboratory.intrinsic+json": {
       "type": "string"
      },
      "text/plain": [
       "'Sempre compro pela Internet e a entrega ocorre antes do prazo combinado, que acredito ser o prazo máximo. No  o prazo máximo já se esgotou e ainda não recebi o produto.'"
      ]
     },
     "execution_count": 24,
     "metadata": {},
     "output_type": "execute_result"
    }
   ],
   "source": [
    "dados['review'][11]"
   ]
  },
  {
   "cell_type": "code",
   "execution_count": null,
   "metadata": {
    "colab": {
     "base_uri": "https://localhost:8080/",
     "height": 53
    },
    "id": "LFsm80JY5B-n",
    "outputId": "aaa8962a-38a6-4513-b59c-652d63d354cd"
   },
   "outputs": [
    {
     "data": {
      "application/vnd.google.colaboratory.intrinsic+json": {
       "type": "string"
      },
      "text/plain": [
       "'sempre compro internet entrega ocorre antes prazo combinado acredito prazo máximo prazo máximo esgotou ainda não recebi produto'"
      ]
     },
     "execution_count": 25,
     "metadata": {},
     "output_type": "execute_result"
    }
   ],
   "source": [
    "dados['tratamento_1'][11]"
   ]
  },
  {
   "cell_type": "markdown",
   "metadata": {
    "id": "qujAUTGf5p-2"
   },
   "source": [
    "**Uniformizando o texto**"
   ]
  },
  {
   "cell_type": "code",
   "execution_count": null,
   "metadata": {
    "colab": {
     "base_uri": "https://localhost:8080/"
    },
    "id": "LbCKdMd-5rCY",
    "outputId": "ba5a75fe-59e5-4374-ecec-49f73f3d06a6"
   },
   "outputs": [
    {
     "name": "stdout",
     "output_type": "stream",
     "text": [
      "Requirement already satisfied: unidecode in /usr/local/lib/python3.10/dist-packages (1.3.8)\n"
     ]
    }
   ],
   "source": [
    "# !pip install unidecode"
   ]
  },
  {
   "cell_type": "code",
   "execution_count": null,
   "metadata": {
    "id": "ZHyPHd1JW87f"
   },
   "outputs": [],
   "source": [
    "import unidecode\n",
    "\n",
    "sem_acentos = [unidecode.unidecode(texto) for texto in dados['tratamento_1']]"
   ]
  },
  {
   "cell_type": "code",
   "execution_count": null,
   "metadata": {
    "colab": {
     "base_uri": "https://localhost:8080/",
     "height": 458
    },
    "id": "tyceSA_bW96B",
    "outputId": "f1e5e497-2f0f-4f9c-c4d9-3638848a04bd"
   },
   "outputs": [
    {
     "data": {
      "text/html": [
       "<div>\n",
       "<style scoped>\n",
       "    .dataframe tbody tr th:only-of-type {\n",
       "        vertical-align: middle;\n",
       "    }\n",
       "\n",
       "    .dataframe tbody tr th {\n",
       "        vertical-align: top;\n",
       "    }\n",
       "\n",
       "    .dataframe thead th {\n",
       "        text-align: right;\n",
       "    }\n",
       "</style>\n",
       "<table border=\"1\" class=\"dataframe\">\n",
       "  <thead>\n",
       "    <tr style=\"text-align: right;\">\n",
       "      <th></th>\n",
       "      <th>tratamento_2</th>\n",
       "    </tr>\n",
       "  </thead>\n",
       "  <tbody>\n",
       "    <tr>\n",
       "      <th>0</th>\n",
       "      <td>recebi bem antes prazo estipulado</td>\n",
       "    </tr>\n",
       "    <tr>\n",
       "      <th>1</th>\n",
       "      <td>parabens lojas zoop adorei comprar internet se...</td>\n",
       "    </tr>\n",
       "    <tr>\n",
       "      <th>2</th>\n",
       "      <td>aparelho eficiente site marca aparelho impress...</td>\n",
       "    </tr>\n",
       "    <tr>\n",
       "      <th>3</th>\n",
       "      <td>pouco travando valor ta boa</td>\n",
       "    </tr>\n",
       "    <tr>\n",
       "      <th>4</th>\n",
       "      <td>vendedor confiavel produto ok entrega antes prazo</td>\n",
       "    </tr>\n",
       "    <tr>\n",
       "      <th>...</th>\n",
       "      <td>...</td>\n",
       "    </tr>\n",
       "    <tr>\n",
       "      <th>39457</th>\n",
       "      <td>entregou dentro prazo produto chegou condicoes...</td>\n",
       "    </tr>\n",
       "    <tr>\n",
       "      <th>39458</th>\n",
       "      <td>produto nao enviado nf nao existe venda nf cer...</td>\n",
       "    </tr>\n",
       "    <tr>\n",
       "      <th>39459</th>\n",
       "      <td>excelente mochila entrega super rapida super r...</td>\n",
       "    </tr>\n",
       "    <tr>\n",
       "      <th>39460</th>\n",
       "      <td>solicitei compra capa retrovisor celta prisma ...</td>\n",
       "    </tr>\n",
       "    <tr>\n",
       "      <th>39461</th>\n",
       "      <td>produto chegou ja devolver pois defeito nao se...</td>\n",
       "    </tr>\n",
       "  </tbody>\n",
       "</table>\n",
       "<p>39462 rows × 1 columns</p>\n",
       "</div><br><label><b>dtype:</b> object</label>"
      ],
      "text/plain": [
       "0                        recebi bem antes prazo estipulado\n",
       "1        parabens lojas zoop adorei comprar internet se...\n",
       "2        aparelho eficiente site marca aparelho impress...\n",
       "3                              pouco travando valor ta boa\n",
       "4        vendedor confiavel produto ok entrega antes prazo\n",
       "                               ...                        \n",
       "39457    entregou dentro prazo produto chegou condicoes...\n",
       "39458    produto nao enviado nf nao existe venda nf cer...\n",
       "39459    excelente mochila entrega super rapida super r...\n",
       "39460    solicitei compra capa retrovisor celta prisma ...\n",
       "39461    produto chegou ja devolver pois defeito nao se...\n",
       "Name: tratamento_2, Length: 39462, dtype: object"
      ]
     },
     "execution_count": 28,
     "metadata": {},
     "output_type": "execute_result"
    }
   ],
   "source": [
    "dados['tratamento_2'] = sem_acentos\n",
    "dados['tratamento_2']"
   ]
  },
  {
   "cell_type": "code",
   "execution_count": null,
   "metadata": {
    "colab": {
     "base_uri": "https://localhost:8080/"
    },
    "id": "wH2mCsWrXBXA",
    "outputId": "3605864b-787a-4515-cce5-17f8906c1c6d"
   },
   "outputs": [
    {
     "name": "stdout",
     "output_type": "stream",
     "text": [
      "Review: entrega antes prazo - Similaridade: 0.8671\n",
      "Review: entrega antes prazo - Similaridade: 0.8662\n",
      "Review: prazo entrega gigante assim conseguiram atrasar entrega - Similaridade: 0.8636\n",
      "Review: entrega prazo produto conforme solicitado - Similaridade: 0.8619\n",
      "Review: entrega prazo produto dentro esperado - Similaridade: 0.8570\n"
     ]
    }
   ],
   "source": [
    "# Aplica a tokenização nas reviews armazenadas na coluna 'tratamento_2'\n",
    "dados['review_token'] = dados['tratamento_2'].apply(word_tokenize)\n",
    "\n",
    "# Cria documentos tagueados para treinamento do modelo\n",
    "# Cada linha do dataframe é representada como um TaggedDocument\n",
    "# com tokens das reviews e um identificador numérico\n",
    "\n",
    "dados_tag = [TaggedDocument(words=linha['review_token'], tags=[str(i)]) for i, linha in dados.iterrows()]\n",
    "\n",
    "# Treina um modelo Doc2Vec com os documentos gerados\n",
    "modelo = Doc2Vec(dados_tag, vector_size=100, min_count=2, window=2,\n",
    "                 workers=1, seed=45, epochs=20)\n",
    "\n",
    "# Encontra as frases mais similares a um determinado termo\n",
    "frases_similares = modelo.dv.most_similar([modelo.infer_vector(['entrega'])], topn=5)\n",
    "\n",
    "# Exibe as reviews mais similares à palavra 'entrega'\n",
    "for idx, similaridade in frases_similares:\n",
    "    print(f\"Review: {dados.iloc[int(idx)]['tratamento_2']} - Similaridade: {similaridade:.4f}\")"
   ]
  },
  {
   "cell_type": "markdown",
   "metadata": {
    "id": "U9J9aKOrDHoD"
   },
   "source": [
    "**Correções nos dados**"
   ]
  },
  {
   "cell_type": "code",
   "execution_count": null,
   "metadata": {
    "colab": {
     "base_uri": "https://localhost:8080/",
     "height": 701
    },
    "id": "h0aSIDxUXGWR",
    "outputId": "2fa889fd-3176-445f-cce5-d7f67907e273"
   },
   "outputs": [
    {
     "data": {
      "application/vnd.google.colaboratory.intrinsic+json": {
       "summary": "{\n  \"name\": \"df\",\n  \"rows\": 31475,\n  \"fields\": [\n    {\n      \"column\": \"nota_review\",\n      \"properties\": {\n        \"dtype\": \"number\",\n        \"std\": 1,\n        \"min\": 1,\n        \"max\": 5,\n        \"num_unique_values\": 5,\n        \"samples\": [\n          4,\n          3,\n          2\n        ],\n        \"semantic_type\": \"\",\n        \"description\": \"\"\n      }\n    },\n    {\n      \"column\": \"review\",\n      \"properties\": {\n        \"dtype\": \"string\",\n        \"num_unique_values\": 31475,\n        \"samples\": [\n          \"Produto entregue lacrado e em perfeito estado.\",\n          \"Recebi parte da minha encomenda apenas. \\u00c9 uma pena porque o produto \\u00e9 \\u00f3timo e veio no prazo. N\\u00e3o entendi porque n\\u00e3o veio completo.\",\n          \"Entrega mto r\\u00e1pida, antes do prazo. Produto excelente! \"\n        ],\n        \"semantic_type\": \"\",\n        \"description\": \"\"\n      }\n    },\n    {\n      \"column\": \"review_token\",\n      \"properties\": {\n        \"dtype\": \"object\",\n        \"semantic_type\": \"\",\n        \"description\": \"\"\n      }\n    },\n    {\n      \"column\": \"tratamento_1\",\n      \"properties\": {\n        \"dtype\": \"string\",\n        \"num_unique_values\": 31475,\n        \"samples\": [\n          \"produto entregue lacrado perfeito estado\",\n          \"recebi parte encomenda apenas pena porque produto \\u00f3timo veio prazo n\\u00e3o entendi porque n\\u00e3o veio completo\",\n          \"entrega mto r\\u00e1pida antes prazo produto excelente\"\n        ],\n        \"semantic_type\": \"\",\n        \"description\": \"\"\n      }\n    },\n    {\n      \"column\": \"tratamento_2\",\n      \"properties\": {\n        \"dtype\": \"string\",\n        \"num_unique_values\": 31475,\n        \"samples\": [\n          \"produto entregue lacrado perfeito estado\",\n          \"recebi parte encomenda apenas pena porque produto otimo veio prazo nao entendi porque nao veio completo\",\n          \"entrega mto rapida antes prazo produto excelente\"\n        ],\n        \"semantic_type\": \"\",\n        \"description\": \"\"\n      }\n    }\n  ]\n}",
       "type": "dataframe",
       "variable_name": "df"
      },
      "text/html": [
       "\n",
       "  <div id=\"df-32ef36c8-828b-45c5-a832-671efca3ceda\" class=\"colab-df-container\">\n",
       "    <div>\n",
       "<style scoped>\n",
       "    .dataframe tbody tr th:only-of-type {\n",
       "        vertical-align: middle;\n",
       "    }\n",
       "\n",
       "    .dataframe tbody tr th {\n",
       "        vertical-align: top;\n",
       "    }\n",
       "\n",
       "    .dataframe thead th {\n",
       "        text-align: right;\n",
       "    }\n",
       "</style>\n",
       "<table border=\"1\" class=\"dataframe\">\n",
       "  <thead>\n",
       "    <tr style=\"text-align: right;\">\n",
       "      <th></th>\n",
       "      <th>nota_review</th>\n",
       "      <th>review</th>\n",
       "      <th>review_token</th>\n",
       "      <th>tratamento_1</th>\n",
       "      <th>tratamento_2</th>\n",
       "    </tr>\n",
       "  </thead>\n",
       "  <tbody>\n",
       "    <tr>\n",
       "      <th>0</th>\n",
       "      <td>5</td>\n",
       "      <td>Recebi bem antes do prazo estipulado.</td>\n",
       "      <td>[recebi, bem, antes, prazo, estipulado]</td>\n",
       "      <td>recebi bem antes prazo estipulado</td>\n",
       "      <td>recebi bem antes prazo estipulado</td>\n",
       "    </tr>\n",
       "    <tr>\n",
       "      <th>1</th>\n",
       "      <td>5</td>\n",
       "      <td>Parabéns lojas Zoop adorei comprar pela Intern...</td>\n",
       "      <td>[parabens, lojas, zoop, adorei, comprar, inter...</td>\n",
       "      <td>parabéns lojas zoop adorei comprar internet se...</td>\n",
       "      <td>parabens lojas zoop adorei comprar internet se...</td>\n",
       "    </tr>\n",
       "    <tr>\n",
       "      <th>2</th>\n",
       "      <td>4</td>\n",
       "      <td>aparelho eficiente. no site a marca do aparelh...</td>\n",
       "      <td>[aparelho, eficiente, site, marca, aparelho, i...</td>\n",
       "      <td>aparelho eficiente site marca aparelho impress...</td>\n",
       "      <td>aparelho eficiente site marca aparelho impress...</td>\n",
       "    </tr>\n",
       "    <tr>\n",
       "      <th>3</th>\n",
       "      <td>4</td>\n",
       "      <td>Mas um pouco ,travando...pelo valor ta Boa.\\r\\n</td>\n",
       "      <td>[pouco, travando, valor, ta, boa]</td>\n",
       "      <td>pouco travando valor ta boa</td>\n",
       "      <td>pouco travando valor ta boa</td>\n",
       "    </tr>\n",
       "    <tr>\n",
       "      <th>4</th>\n",
       "      <td>5</td>\n",
       "      <td>Vendedor confiável, produto ok e entrega antes...</td>\n",
       "      <td>[vendedor, confiavel, produto, ok, entrega, an...</td>\n",
       "      <td>vendedor confiável produto ok entrega antes prazo</td>\n",
       "      <td>vendedor confiavel produto ok entrega antes prazo</td>\n",
       "    </tr>\n",
       "    <tr>\n",
       "      <th>...</th>\n",
       "      <td>...</td>\n",
       "      <td>...</td>\n",
       "      <td>...</td>\n",
       "      <td>...</td>\n",
       "      <td>...</td>\n",
       "    </tr>\n",
       "    <tr>\n",
       "      <th>39457</th>\n",
       "      <td>5</td>\n",
       "      <td>Entregou dentro do prazo. O produto chegou em ...</td>\n",
       "      <td>[entregou, dentro, prazo, produto, chegou, con...</td>\n",
       "      <td>entregou dentro prazo produto chegou condições...</td>\n",
       "      <td>entregou dentro prazo produto chegou condicoes...</td>\n",
       "    </tr>\n",
       "    <tr>\n",
       "      <th>39458</th>\n",
       "      <td>3</td>\n",
       "      <td>O produto não foi enviado com NF, não existe v...</td>\n",
       "      <td>[produto, nao, enviado, nf, nao, existe, venda...</td>\n",
       "      <td>produto não enviado nf não existe venda nf cer...</td>\n",
       "      <td>produto nao enviado nf nao existe venda nf cer...</td>\n",
       "    </tr>\n",
       "    <tr>\n",
       "      <th>39459</th>\n",
       "      <td>5</td>\n",
       "      <td>Excelente mochila, entrega super rápida. Super...</td>\n",
       "      <td>[excelente, mochila, entrega, super, rapida, s...</td>\n",
       "      <td>excelente mochila entrega super rápida super r...</td>\n",
       "      <td>excelente mochila entrega super rapida super r...</td>\n",
       "    </tr>\n",
       "    <tr>\n",
       "      <th>39460</th>\n",
       "      <td>1</td>\n",
       "      <td>Solicitei a compra de uma capa de retrovisor c...</td>\n",
       "      <td>[solicitei, compra, capa, retrovisor, celta, p...</td>\n",
       "      <td>solicitei compra capa retrovisor celta prisma ...</td>\n",
       "      <td>solicitei compra capa retrovisor celta prisma ...</td>\n",
       "    </tr>\n",
       "    <tr>\n",
       "      <th>39461</th>\n",
       "      <td>1</td>\n",
       "      <td>meu produto chegou e ja tenho que devolver, po...</td>\n",
       "      <td>[produto, chegou, ja, devolver, pois, defeito,...</td>\n",
       "      <td>produto chegou ja devolver pois defeito não se...</td>\n",
       "      <td>produto chegou ja devolver pois defeito nao se...</td>\n",
       "    </tr>\n",
       "  </tbody>\n",
       "</table>\n",
       "<p>31475 rows × 5 columns</p>\n",
       "</div>\n",
       "    <div class=\"colab-df-buttons\">\n",
       "\n",
       "  <div class=\"colab-df-container\">\n",
       "    <button class=\"colab-df-convert\" onclick=\"convertToInteractive('df-32ef36c8-828b-45c5-a832-671efca3ceda')\"\n",
       "            title=\"Convert this dataframe to an interactive table.\"\n",
       "            style=\"display:none;\">\n",
       "\n",
       "  <svg xmlns=\"http://www.w3.org/2000/svg\" height=\"24px\" viewBox=\"0 -960 960 960\">\n",
       "    <path d=\"M120-120v-720h720v720H120Zm60-500h600v-160H180v160Zm220 220h160v-160H400v160Zm0 220h160v-160H400v160ZM180-400h160v-160H180v160Zm440 0h160v-160H620v160ZM180-180h160v-160H180v160Zm440 0h160v-160H620v160Z\"/>\n",
       "  </svg>\n",
       "    </button>\n",
       "\n",
       "  <style>\n",
       "    .colab-df-container {\n",
       "      display:flex;\n",
       "      gap: 12px;\n",
       "    }\n",
       "\n",
       "    .colab-df-convert {\n",
       "      background-color: #E8F0FE;\n",
       "      border: none;\n",
       "      border-radius: 50%;\n",
       "      cursor: pointer;\n",
       "      display: none;\n",
       "      fill: #1967D2;\n",
       "      height: 32px;\n",
       "      padding: 0 0 0 0;\n",
       "      width: 32px;\n",
       "    }\n",
       "\n",
       "    .colab-df-convert:hover {\n",
       "      background-color: #E2EBFA;\n",
       "      box-shadow: 0px 1px 2px rgba(60, 64, 67, 0.3), 0px 1px 3px 1px rgba(60, 64, 67, 0.15);\n",
       "      fill: #174EA6;\n",
       "    }\n",
       "\n",
       "    .colab-df-buttons div {\n",
       "      margin-bottom: 4px;\n",
       "    }\n",
       "\n",
       "    [theme=dark] .colab-df-convert {\n",
       "      background-color: #3B4455;\n",
       "      fill: #D2E3FC;\n",
       "    }\n",
       "\n",
       "    [theme=dark] .colab-df-convert:hover {\n",
       "      background-color: #434B5C;\n",
       "      box-shadow: 0px 1px 3px 1px rgba(0, 0, 0, 0.15);\n",
       "      filter: drop-shadow(0px 1px 2px rgba(0, 0, 0, 0.3));\n",
       "      fill: #FFFFFF;\n",
       "    }\n",
       "  </style>\n",
       "\n",
       "    <script>\n",
       "      const buttonEl =\n",
       "        document.querySelector('#df-32ef36c8-828b-45c5-a832-671efca3ceda button.colab-df-convert');\n",
       "      buttonEl.style.display =\n",
       "        google.colab.kernel.accessAllowed ? 'block' : 'none';\n",
       "\n",
       "      async function convertToInteractive(key) {\n",
       "        const element = document.querySelector('#df-32ef36c8-828b-45c5-a832-671efca3ceda');\n",
       "        const dataTable =\n",
       "          await google.colab.kernel.invokeFunction('convertToInteractive',\n",
       "                                                    [key], {});\n",
       "        if (!dataTable) return;\n",
       "\n",
       "        const docLinkHtml = 'Like what you see? Visit the ' +\n",
       "          '<a target=\"_blank\" href=https://colab.research.google.com/notebooks/data_table.ipynb>data table notebook</a>'\n",
       "          + ' to learn more about interactive tables.';\n",
       "        element.innerHTML = '';\n",
       "        dataTable['output_type'] = 'display_data';\n",
       "        await google.colab.output.renderOutput(dataTable, element);\n",
       "        const docLink = document.createElement('div');\n",
       "        docLink.innerHTML = docLinkHtml;\n",
       "        element.appendChild(docLink);\n",
       "      }\n",
       "    </script>\n",
       "  </div>\n",
       "\n",
       "\n",
       "<div id=\"df-47f0e6f9-c9dc-478c-8976-a1b66ce1b4e7\">\n",
       "  <button class=\"colab-df-quickchart\" onclick=\"quickchart('df-47f0e6f9-c9dc-478c-8976-a1b66ce1b4e7')\"\n",
       "            title=\"Suggest charts\"\n",
       "            style=\"display:none;\">\n",
       "\n",
       "<svg xmlns=\"http://www.w3.org/2000/svg\" height=\"24px\"viewBox=\"0 0 24 24\"\n",
       "     width=\"24px\">\n",
       "    <g>\n",
       "        <path d=\"M19 3H5c-1.1 0-2 .9-2 2v14c0 1.1.9 2 2 2h14c1.1 0 2-.9 2-2V5c0-1.1-.9-2-2-2zM9 17H7v-7h2v7zm4 0h-2V7h2v10zm4 0h-2v-4h2v4z\"/>\n",
       "    </g>\n",
       "</svg>\n",
       "  </button>\n",
       "\n",
       "<style>\n",
       "  .colab-df-quickchart {\n",
       "      --bg-color: #E8F0FE;\n",
       "      --fill-color: #1967D2;\n",
       "      --hover-bg-color: #E2EBFA;\n",
       "      --hover-fill-color: #174EA6;\n",
       "      --disabled-fill-color: #AAA;\n",
       "      --disabled-bg-color: #DDD;\n",
       "  }\n",
       "\n",
       "  [theme=dark] .colab-df-quickchart {\n",
       "      --bg-color: #3B4455;\n",
       "      --fill-color: #D2E3FC;\n",
       "      --hover-bg-color: #434B5C;\n",
       "      --hover-fill-color: #FFFFFF;\n",
       "      --disabled-bg-color: #3B4455;\n",
       "      --disabled-fill-color: #666;\n",
       "  }\n",
       "\n",
       "  .colab-df-quickchart {\n",
       "    background-color: var(--bg-color);\n",
       "    border: none;\n",
       "    border-radius: 50%;\n",
       "    cursor: pointer;\n",
       "    display: none;\n",
       "    fill: var(--fill-color);\n",
       "    height: 32px;\n",
       "    padding: 0;\n",
       "    width: 32px;\n",
       "  }\n",
       "\n",
       "  .colab-df-quickchart:hover {\n",
       "    background-color: var(--hover-bg-color);\n",
       "    box-shadow: 0 1px 2px rgba(60, 64, 67, 0.3), 0 1px 3px 1px rgba(60, 64, 67, 0.15);\n",
       "    fill: var(--button-hover-fill-color);\n",
       "  }\n",
       "\n",
       "  .colab-df-quickchart-complete:disabled,\n",
       "  .colab-df-quickchart-complete:disabled:hover {\n",
       "    background-color: var(--disabled-bg-color);\n",
       "    fill: var(--disabled-fill-color);\n",
       "    box-shadow: none;\n",
       "  }\n",
       "\n",
       "  .colab-df-spinner {\n",
       "    border: 2px solid var(--fill-color);\n",
       "    border-color: transparent;\n",
       "    border-bottom-color: var(--fill-color);\n",
       "    animation:\n",
       "      spin 1s steps(1) infinite;\n",
       "  }\n",
       "\n",
       "  @keyframes spin {\n",
       "    0% {\n",
       "      border-color: transparent;\n",
       "      border-bottom-color: var(--fill-color);\n",
       "      border-left-color: var(--fill-color);\n",
       "    }\n",
       "    20% {\n",
       "      border-color: transparent;\n",
       "      border-left-color: var(--fill-color);\n",
       "      border-top-color: var(--fill-color);\n",
       "    }\n",
       "    30% {\n",
       "      border-color: transparent;\n",
       "      border-left-color: var(--fill-color);\n",
       "      border-top-color: var(--fill-color);\n",
       "      border-right-color: var(--fill-color);\n",
       "    }\n",
       "    40% {\n",
       "      border-color: transparent;\n",
       "      border-right-color: var(--fill-color);\n",
       "      border-top-color: var(--fill-color);\n",
       "    }\n",
       "    60% {\n",
       "      border-color: transparent;\n",
       "      border-right-color: var(--fill-color);\n",
       "    }\n",
       "    80% {\n",
       "      border-color: transparent;\n",
       "      border-right-color: var(--fill-color);\n",
       "      border-bottom-color: var(--fill-color);\n",
       "    }\n",
       "    90% {\n",
       "      border-color: transparent;\n",
       "      border-bottom-color: var(--fill-color);\n",
       "    }\n",
       "  }\n",
       "</style>\n",
       "\n",
       "  <script>\n",
       "    async function quickchart(key) {\n",
       "      const quickchartButtonEl =\n",
       "        document.querySelector('#' + key + ' button');\n",
       "      quickchartButtonEl.disabled = true;  // To prevent multiple clicks.\n",
       "      quickchartButtonEl.classList.add('colab-df-spinner');\n",
       "      try {\n",
       "        const charts = await google.colab.kernel.invokeFunction(\n",
       "            'suggestCharts', [key], {});\n",
       "      } catch (error) {\n",
       "        console.error('Error during call to suggestCharts:', error);\n",
       "      }\n",
       "      quickchartButtonEl.classList.remove('colab-df-spinner');\n",
       "      quickchartButtonEl.classList.add('colab-df-quickchart-complete');\n",
       "    }\n",
       "    (() => {\n",
       "      let quickchartButtonEl =\n",
       "        document.querySelector('#df-47f0e6f9-c9dc-478c-8976-a1b66ce1b4e7 button');\n",
       "      quickchartButtonEl.style.display =\n",
       "        google.colab.kernel.accessAllowed ? 'block' : 'none';\n",
       "    })();\n",
       "  </script>\n",
       "</div>\n",
       "\n",
       "  <div id=\"id_51795dc9-f8eb-4ba4-bb6b-262e5a832cf1\">\n",
       "    <style>\n",
       "      .colab-df-generate {\n",
       "        background-color: #E8F0FE;\n",
       "        border: none;\n",
       "        border-radius: 50%;\n",
       "        cursor: pointer;\n",
       "        display: none;\n",
       "        fill: #1967D2;\n",
       "        height: 32px;\n",
       "        padding: 0 0 0 0;\n",
       "        width: 32px;\n",
       "      }\n",
       "\n",
       "      .colab-df-generate:hover {\n",
       "        background-color: #E2EBFA;\n",
       "        box-shadow: 0px 1px 2px rgba(60, 64, 67, 0.3), 0px 1px 3px 1px rgba(60, 64, 67, 0.15);\n",
       "        fill: #174EA6;\n",
       "      }\n",
       "\n",
       "      [theme=dark] .colab-df-generate {\n",
       "        background-color: #3B4455;\n",
       "        fill: #D2E3FC;\n",
       "      }\n",
       "\n",
       "      [theme=dark] .colab-df-generate:hover {\n",
       "        background-color: #434B5C;\n",
       "        box-shadow: 0px 1px 3px 1px rgba(0, 0, 0, 0.15);\n",
       "        filter: drop-shadow(0px 1px 2px rgba(0, 0, 0, 0.3));\n",
       "        fill: #FFFFFF;\n",
       "      }\n",
       "    </style>\n",
       "    <button class=\"colab-df-generate\" onclick=\"generateWithVariable('df')\"\n",
       "            title=\"Generate code using this dataframe.\"\n",
       "            style=\"display:none;\">\n",
       "\n",
       "  <svg xmlns=\"http://www.w3.org/2000/svg\" height=\"24px\"viewBox=\"0 0 24 24\"\n",
       "       width=\"24px\">\n",
       "    <path d=\"M7,19H8.4L18.45,9,17,7.55,7,17.6ZM5,21V16.75L18.45,3.32a2,2,0,0,1,2.83,0l1.4,1.43a1.91,1.91,0,0,1,.58,1.4,1.91,1.91,0,0,1-.58,1.4L9.25,21ZM18.45,9,17,7.55Zm-12,3A5.31,5.31,0,0,0,4.9,8.1,5.31,5.31,0,0,0,1,6.5,5.31,5.31,0,0,0,4.9,4.9,5.31,5.31,0,0,0,6.5,1,5.31,5.31,0,0,0,8.1,4.9,5.31,5.31,0,0,0,12,6.5,5.46,5.46,0,0,0,6.5,12Z\"/>\n",
       "  </svg>\n",
       "    </button>\n",
       "    <script>\n",
       "      (() => {\n",
       "      const buttonEl =\n",
       "        document.querySelector('#id_51795dc9-f8eb-4ba4-bb6b-262e5a832cf1 button.colab-df-generate');\n",
       "      buttonEl.style.display =\n",
       "        google.colab.kernel.accessAllowed ? 'block' : 'none';\n",
       "\n",
       "      buttonEl.onclick = () => {\n",
       "        google.colab.notebook.generateWithVariable('df');\n",
       "      }\n",
       "      })();\n",
       "    </script>\n",
       "  </div>\n",
       "\n",
       "    </div>\n",
       "  </div>\n"
      ],
      "text/plain": [
       "       nota_review                                             review  \\\n",
       "0                5              Recebi bem antes do prazo estipulado.   \n",
       "1                5  Parabéns lojas Zoop adorei comprar pela Intern...   \n",
       "2                4  aparelho eficiente. no site a marca do aparelh...   \n",
       "3                4    Mas um pouco ,travando...pelo valor ta Boa.\\r\\n   \n",
       "4                5  Vendedor confiável, produto ok e entrega antes...   \n",
       "...            ...                                                ...   \n",
       "39457            5  Entregou dentro do prazo. O produto chegou em ...   \n",
       "39458            3  O produto não foi enviado com NF, não existe v...   \n",
       "39459            5  Excelente mochila, entrega super rápida. Super...   \n",
       "39460            1  Solicitei a compra de uma capa de retrovisor c...   \n",
       "39461            1  meu produto chegou e ja tenho que devolver, po...   \n",
       "\n",
       "                                            review_token  \\\n",
       "0                [recebi, bem, antes, prazo, estipulado]   \n",
       "1      [parabens, lojas, zoop, adorei, comprar, inter...   \n",
       "2      [aparelho, eficiente, site, marca, aparelho, i...   \n",
       "3                      [pouco, travando, valor, ta, boa]   \n",
       "4      [vendedor, confiavel, produto, ok, entrega, an...   \n",
       "...                                                  ...   \n",
       "39457  [entregou, dentro, prazo, produto, chegou, con...   \n",
       "39458  [produto, nao, enviado, nf, nao, existe, venda...   \n",
       "39459  [excelente, mochila, entrega, super, rapida, s...   \n",
       "39460  [solicitei, compra, capa, retrovisor, celta, p...   \n",
       "39461  [produto, chegou, ja, devolver, pois, defeito,...   \n",
       "\n",
       "                                            tratamento_1  \\\n",
       "0                      recebi bem antes prazo estipulado   \n",
       "1      parabéns lojas zoop adorei comprar internet se...   \n",
       "2      aparelho eficiente site marca aparelho impress...   \n",
       "3                            pouco travando valor ta boa   \n",
       "4      vendedor confiável produto ok entrega antes prazo   \n",
       "...                                                  ...   \n",
       "39457  entregou dentro prazo produto chegou condições...   \n",
       "39458  produto não enviado nf não existe venda nf cer...   \n",
       "39459  excelente mochila entrega super rápida super r...   \n",
       "39460  solicitei compra capa retrovisor celta prisma ...   \n",
       "39461  produto chegou ja devolver pois defeito não se...   \n",
       "\n",
       "                                            tratamento_2  \n",
       "0                      recebi bem antes prazo estipulado  \n",
       "1      parabens lojas zoop adorei comprar internet se...  \n",
       "2      aparelho eficiente site marca aparelho impress...  \n",
       "3                            pouco travando valor ta boa  \n",
       "4      vendedor confiavel produto ok entrega antes prazo  \n",
       "...                                                  ...  \n",
       "39457  entregou dentro prazo produto chegou condicoes...  \n",
       "39458  produto nao enviado nf nao existe venda nf cer...  \n",
       "39459  excelente mochila entrega super rapida super r...  \n",
       "39460  solicitei compra capa retrovisor celta prisma ...  \n",
       "39461  produto chegou ja devolver pois defeito nao se...  \n",
       "\n",
       "[31475 rows x 5 columns]"
      ]
     },
     "execution_count": 30,
     "metadata": {},
     "output_type": "execute_result"
    }
   ],
   "source": [
    "df = dados.drop_duplicates(subset= ['tratamento_2'])\n",
    "df"
   ]
  },
  {
   "cell_type": "code",
   "execution_count": null,
   "metadata": {
    "colab": {
     "base_uri": "https://localhost:8080/",
     "height": 36
    },
    "id": "Huw1Bc1L_Rdy",
    "outputId": "37fdb802-a32c-4363-e8b7-416780dbcd40"
   },
   "outputs": [
    {
     "data": {
      "application/vnd.google.colaboratory.intrinsic+json": {
       "type": "string"
      },
      "text/plain": [
       "'A'"
      ]
     },
     "execution_count": 31,
     "metadata": {},
     "output_type": "execute_result"
    }
   ],
   "source": [
    "df['review'][120]"
   ]
  },
  {
   "cell_type": "code",
   "execution_count": null,
   "metadata": {
    "colab": {
     "base_uri": "https://localhost:8080/",
     "height": 36
    },
    "id": "y4M2qxViFBZN",
    "outputId": "ec344ba4-0933-400d-a91e-5537991016c6"
   },
   "outputs": [
    {
     "data": {
      "application/vnd.google.colaboratory.intrinsic+json": {
       "type": "string"
      },
      "text/plain": [
       "''"
      ]
     },
     "execution_count": 32,
     "metadata": {},
     "output_type": "execute_result"
    }
   ],
   "source": [
    "df['tratamento_2'][120]"
   ]
  },
  {
   "cell_type": "code",
   "execution_count": null,
   "metadata": {
    "id": "dDvcDqXvXUWg"
   },
   "outputs": [],
   "source": [
    "df = df[df['tratamento_2'] != '']"
   ]
  },
  {
   "cell_type": "code",
   "execution_count": null,
   "metadata": {
    "colab": {
     "base_uri": "https://localhost:8080/",
     "height": 36
    },
    "id": "hqQlIZ-3GQWJ",
    "outputId": "fe38ac54-72eb-43aa-d93c-3b8eb4ff7462"
   },
   "outputs": [
    {
     "data": {
      "application/vnd.google.colaboratory.intrinsic+json": {
       "type": "string"
      },
      "text/plain": [
       "'simplismeente ameiii'"
      ]
     },
     "execution_count": 34,
     "metadata": {},
     "output_type": "execute_result"
    }
   ],
   "source": [
    "df['tratamento_2'][3319]"
   ]
  },
  {
   "cell_type": "code",
   "execution_count": null,
   "metadata": {
    "colab": {
     "base_uri": "https://localhost:8080/",
     "height": 36
    },
    "id": "kRqx3FxxGbTc",
    "outputId": "59cb639f-d834-46b1-b3e8-464e21378e57"
   },
   "outputs": [
    {
     "data": {
      "application/vnd.google.colaboratory.intrinsic+json": {
       "type": "string"
      },
      "text/plain": [
       "'recebi rapido antes prazo otimo qualidade adoreii'"
      ]
     },
     "execution_count": 35,
     "metadata": {},
     "output_type": "execute_result"
    }
   ],
   "source": [
    "df['tratamento_2'][8354]"
   ]
  },
  {
   "cell_type": "code",
   "execution_count": null,
   "metadata": {
    "colab": {
     "base_uri": "https://localhost:8080/",
     "height": 36
    },
    "id": "p5MIoC81GpOz",
    "outputId": "6c11c54e-11d6-4b12-abee-d6174bfeb588"
   },
   "outputs": [
    {
     "data": {
      "application/vnd.google.colaboratory.intrinsic+json": {
       "type": "string"
      },
      "text/plain": [
       "'produto chegou direitinho antes muuuito antes prazo superou expectativas'"
      ]
     },
     "execution_count": 36,
     "metadata": {},
     "output_type": "execute_result"
    }
   ],
   "source": [
    "df['tratamento_2'][12843]"
   ]
  },
  {
   "cell_type": "code",
   "execution_count": null,
   "metadata": {
    "colab": {
     "base_uri": "https://localhost:8080/"
    },
    "id": "5UnrYfAyXYHF",
    "outputId": "6f3c039c-5851-4fc6-ba7d-182a1a600949"
   },
   "outputs": [],
   "source": [
    "# Função para normalizar repetições excessivas de caracteres\n",
    "# Mantém duplicações de 'rr' e 'ss' comuns no português, mas reduz outras\n",
    "\n",
    "def normalizar_repeticoes(texto):\n",
    "    return re.sub(r'(?!rr|ss)(.)\\1+', r'\\1', texto)\n",
    "\n",
    "# Aplica a normalização na coluna 'tratamento_2' e armazena o resultado em 'tratamento_3'\n",
    "df['tratamento_3'] = df['tratamento_2'].apply(normalizar_repeticoes)"
   ]
  },
  {
   "cell_type": "code",
   "execution_count": null,
   "metadata": {
    "colab": {
     "base_uri": "https://localhost:8080/",
     "height": 36
    },
    "id": "7EYjG-ZKHBal",
    "outputId": "5dd26615-fee6-4584-fb8e-721b718cc2bd"
   },
   "outputs": [
    {
     "data": {
      "application/vnd.google.colaboratory.intrinsic+json": {
       "type": "string"
      },
      "text/plain": [
       "'simplismente amei'"
      ]
     },
     "execution_count": 38,
     "metadata": {},
     "output_type": "execute_result"
    }
   ],
   "source": [
    "df['tratamento_3'][3319]"
   ]
  },
  {
   "cell_type": "code",
   "execution_count": null,
   "metadata": {
    "colab": {
     "base_uri": "https://localhost:8080/",
     "height": 36
    },
    "id": "X6ViObvyIiQE",
    "outputId": "298c9a03-0ab4-40b8-dd82-0ded116a752d"
   },
   "outputs": [
    {
     "data": {
      "application/vnd.google.colaboratory.intrinsic+json": {
       "type": "string"
      },
      "text/plain": [
       "'recebi rapido antes prazo otimo qualidade adorei'"
      ]
     },
     "execution_count": 39,
     "metadata": {},
     "output_type": "execute_result"
    }
   ],
   "source": [
    "df['tratamento_3'][8354]"
   ]
  },
  {
   "cell_type": "code",
   "execution_count": null,
   "metadata": {
    "id": "Fi1mOtUGXh3V"
   },
   "outputs": [],
   "source": [
    "df.reset_index(drop=True, inplace=True)"
   ]
  },
  {
   "cell_type": "markdown",
   "metadata": {
    "id": "-XIOufPODKmy"
   },
   "source": [
    "**Lematização**"
   ]
  },
  {
   "cell_type": "code",
   "execution_count": null,
   "metadata": {
    "colab": {
     "base_uri": "https://localhost:8080/"
    },
    "id": "Mwq5ujHLJCvl",
    "outputId": "1a0cb8ba-a482-4d59-99d0-cc0c01ba8af0"
   },
   "outputs": [
    {
     "name": "stdout",
     "output_type": "stream",
     "text": [
      "Requirement already satisfied: stanza in /usr/local/lib/python3.10/dist-packages (1.9.2)\n",
      "Requirement already satisfied: emoji in /usr/local/lib/python3.10/dist-packages (from stanza) (2.14.0)\n",
      "Requirement already satisfied: numpy in /usr/local/lib/python3.10/dist-packages (from stanza) (1.26.4)\n",
      "Requirement already satisfied: protobuf>=3.15.0 in /usr/local/lib/python3.10/dist-packages (from stanza) (3.20.3)\n",
      "Requirement already satisfied: requests in /usr/local/lib/python3.10/dist-packages (from stanza) (2.32.3)\n",
      "Requirement already satisfied: networkx in /usr/local/lib/python3.10/dist-packages (from stanza) (3.4.2)\n",
      "Requirement already satisfied: torch>=1.3.0 in /usr/local/lib/python3.10/dist-packages (from stanza) (2.5.0+cu121)\n",
      "Requirement already satisfied: tqdm in /usr/local/lib/python3.10/dist-packages (from stanza) (4.66.5)\n",
      "Requirement already satisfied: tomli in /usr/local/lib/python3.10/dist-packages (from stanza) (2.0.2)\n",
      "Requirement already satisfied: filelock in /usr/local/lib/python3.10/dist-packages (from torch>=1.3.0->stanza) (3.16.1)\n",
      "Requirement already satisfied: typing-extensions>=4.8.0 in /usr/local/lib/python3.10/dist-packages (from torch>=1.3.0->stanza) (4.12.2)\n",
      "Requirement already satisfied: jinja2 in /usr/local/lib/python3.10/dist-packages (from torch>=1.3.0->stanza) (3.1.4)\n",
      "Requirement already satisfied: fsspec in /usr/local/lib/python3.10/dist-packages (from torch>=1.3.0->stanza) (2024.6.1)\n",
      "Requirement already satisfied: sympy==1.13.1 in /usr/local/lib/python3.10/dist-packages (from torch>=1.3.0->stanza) (1.13.1)\n",
      "Requirement already satisfied: mpmath<1.4,>=1.1.0 in /usr/local/lib/python3.10/dist-packages (from sympy==1.13.1->torch>=1.3.0->stanza) (1.3.0)\n",
      "Requirement already satisfied: charset-normalizer<4,>=2 in /usr/local/lib/python3.10/dist-packages (from requests->stanza) (3.4.0)\n",
      "Requirement already satisfied: idna<4,>=2.5 in /usr/local/lib/python3.10/dist-packages (from requests->stanza) (3.10)\n",
      "Requirement already satisfied: urllib3<3,>=1.21.1 in /usr/local/lib/python3.10/dist-packages (from requests->stanza) (2.2.3)\n",
      "Requirement already satisfied: certifi>=2017.4.17 in /usr/local/lib/python3.10/dist-packages (from requests->stanza) (2024.8.30)\n",
      "Requirement already satisfied: MarkupSafe>=2.0 in /usr/local/lib/python3.10/dist-packages (from jinja2->torch>=1.3.0->stanza) (2.1.5)\n",
      "/usr/bin/python3: No module named stanza.download\n"
     ]
    }
   ],
   "source": [
    "# !pip install stanza\n",
    "# !python -m stanza.download pt"
   ]
  },
  {
   "cell_type": "code",
   "execution_count": null,
   "metadata": {
    "colab": {
     "base_uri": "https://localhost:8080/",
     "height": 640,
     "referenced_widgets": [
      "5909fe1bc05b4cdab3b920984dd5e102",
      "16699f2cc9ff492983943003f7205727",
      "90cd9fc64271469b8ee168a80dd5d24e",
      "67094fce86754bc68907790be17641a9",
      "e3a59a4df5ea476c86cf8f2a03caae87",
      "92d29f82d42343e2af3a6c31b98f3f84",
      "457be54902834e448c1349a5d8f0ea8b",
      "c4cad996099741b9b7e9d0b83643f1ab",
      "5900f7400596457fb9b3c786767323cf",
      "492aa5c2c41b48a882c2edb494376561",
      "62b496ee128040d0af5631e4d2e7c72e",
      "27f1a07bbc6c4c64812572e62a3ae419",
      "6fd29a8d428a466e806c345f5cecedb5",
      "49ef065591d54c34a2eeb666ddfb5061",
      "8a23eff1337f46f798b2f5e4c31a7570",
      "9e71df0b4b7744f5b6f579de6b294329",
      "505f6cba54a647dd90db339e31262ec8",
      "f352412a0d7c469993744856e59e5788",
      "93e7bcabff7b4c56a4f6bd715a5549f5",
      "a5057ab1f41f4b11b8a3d22479260d0a",
      "812569f603f248a0abefaabcbcd8ddfb",
      "6ac3f25630594b49977e2470cc573816"
     ]
    },
    "id": "DEXcROp3XtC8",
    "outputId": "82b9d2e6-0cdb-4642-adf9-f6bcd33402fb"
   },
   "outputs": [],
   "source": [
    "import stanza\n",
    "\n",
    "stanza.download('pt')\n",
    "nlp = stanza.Pipeline('pt',\n",
    "                      processors='tokenize,lemma',\n",
    "                      use_gpu=False,\n",
    "                      batch_size= 64,\n",
    "                      n_process = 4)"
   ]
  },
  {
   "cell_type": "code",
   "execution_count": null,
   "metadata": {
    "id": "AzmHVsATXuum"
   },
   "outputs": [],
   "source": [
    "def lematizar_texto(textos):\n",
    "    \"\"\"\n",
    "    Função para lematizar uma lista de textos.\n",
    "    - Utiliza um modelo NLP para obter a forma lematizada de cada palavra.\n",
    "    - Mantém a estrutura original das frases.\n",
    "    \n",
    "    Parâmetros:\n",
    "    textos (list): Lista de strings contendo os textos a serem lematizados.\n",
    "    \n",
    "    Retorna:\n",
    "    list: Lista de textos com palavras lematizadas.\n",
    "    \"\"\"\n",
    "    \n",
    "    texto_lematizados = []  # Lista para armazenar os textos lematizados\n",
    "    \n",
    "    for texto in textos:\n",
    "        doc_frase = nlp(texto)  # Processa o texto com a pipeline NLP\n",
    "        \n",
    "        # Constrói a frase lematizada juntando os lemas das palavras\n",
    "        frase_lematizada = ' '.join([palavra.lemma for frase in doc_frase.sentences for palavra in frase.words])\n",
    "        \n",
    "        texto_lematizados.append(frase_lematizada)  # Adiciona o texto lematizado à lista\n",
    "    \n",
    "    return texto_lematizados  # Retorna a lista de textos lematizados"
   ]
  },
  {
   "cell_type": "code",
   "execution_count": null,
   "metadata": {
    "colab": {
     "base_uri": "https://localhost:8080/"
    },
    "id": "c-UC_LsfX92a",
    "outputId": "fc2fab0c-143d-4c93-d429-33d8b37b24e9"
   },
   "outputs": [
    {
     "data": {
      "text/plain": [
       "['gostar muito experiencia comprar',\n",
       " 'meu filha gostar produto',\n",
       " 'compra ser facil compra rapido']"
      ]
     },
     "execution_count": 44,
     "metadata": {},
     "output_type": "execute_result"
    }
   ],
   "source": [
    "textos = ['gostei muito experiencia comprar',\n",
    "          'minha filha gostou produto',\n",
    "          'compra foi facil compra rapida']\n",
    "lematizar_texto(textos)"
   ]
  },
  {
   "cell_type": "code",
   "execution_count": null,
   "metadata": {
    "colab": {
     "base_uri": "https://localhost:8080/"
    },
    "id": "wmXoeWekX8Eu",
    "outputId": "8bf72f40-4908-4d35-c157-52094533f4bf"
   },
   "outputs": [],
   "source": [
    "df['tratamento_4'] = lematizar_texto(df['tratamento_3'])"
   ]
  },
  {
   "cell_type": "code",
   "execution_count": null,
   "metadata": {
    "colab": {
     "base_uri": "https://localhost:8080/",
     "height": 458
    },
    "id": "6G7ph60JX7OQ",
    "outputId": "416fc007-7a26-4094-d57b-b5fab9abbffb"
   },
   "outputs": [
    {
     "data": {
      "text/html": [
       "<div>\n",
       "<style scoped>\n",
       "    .dataframe tbody tr th:only-of-type {\n",
       "        vertical-align: middle;\n",
       "    }\n",
       "\n",
       "    .dataframe tbody tr th {\n",
       "        vertical-align: top;\n",
       "    }\n",
       "\n",
       "    .dataframe thead th {\n",
       "        text-align: right;\n",
       "    }\n",
       "</style>\n",
       "<table border=\"1\" class=\"dataframe\">\n",
       "  <thead>\n",
       "    <tr style=\"text-align: right;\">\n",
       "      <th></th>\n",
       "      <th>tratamento_4</th>\n",
       "    </tr>\n",
       "  </thead>\n",
       "  <tbody>\n",
       "    <tr>\n",
       "      <th>0</th>\n",
       "      <td>recebi bem antes prazo estipulado</td>\n",
       "    </tr>\n",
       "    <tr>\n",
       "      <th>1</th>\n",
       "      <td>parabem loja zop adorei comprar internet segur...</td>\n",
       "    </tr>\n",
       "    <tr>\n",
       "      <th>2</th>\n",
       "      <td>aparelho eficiente site marca aparelho imprimi...</td>\n",
       "    </tr>\n",
       "    <tr>\n",
       "      <th>3</th>\n",
       "      <td>pouco travar valor to bom</td>\n",
       "    </tr>\n",
       "    <tr>\n",
       "      <th>4</th>\n",
       "      <td>vendedor confiavel produto ok entregar antes p...</td>\n",
       "    </tr>\n",
       "    <tr>\n",
       "      <th>...</th>\n",
       "      <td>...</td>\n",
       "    </tr>\n",
       "    <tr>\n",
       "      <th>31469</th>\n",
       "      <td>entregar dentro prazo produto chegar condico p...</td>\n",
       "    </tr>\n",
       "    <tr>\n",
       "      <th>31470</th>\n",
       "      <td>produto nao enviado em f nao existir venda em ...</td>\n",
       "    </tr>\n",
       "    <tr>\n",
       "      <th>31471</th>\n",
       "      <td>excelente mochila entregar super rapido super ...</td>\n",
       "    </tr>\n",
       "    <tr>\n",
       "      <th>31472</th>\n",
       "      <td>solicitei compra capa retrovisor celta prisma ...</td>\n",
       "    </tr>\n",
       "    <tr>\n",
       "      <th>31473</th>\n",
       "      <td>produto chegar ja devolver pois defeito nao se...</td>\n",
       "    </tr>\n",
       "  </tbody>\n",
       "</table>\n",
       "<p>31474 rows × 1 columns</p>\n",
       "</div><br><label><b>dtype:</b> object</label>"
      ],
      "text/plain": [
       "0                        recebi bem antes prazo estipulado\n",
       "1        parabem loja zop adorei comprar internet segur...\n",
       "2        aparelho eficiente site marca aparelho imprimi...\n",
       "3                                pouco travar valor to bom\n",
       "4        vendedor confiavel produto ok entregar antes p...\n",
       "                               ...                        \n",
       "31469    entregar dentro prazo produto chegar condico p...\n",
       "31470    produto nao enviado em f nao existir venda em ...\n",
       "31471    excelente mochila entregar super rapido super ...\n",
       "31472    solicitei compra capa retrovisor celta prisma ...\n",
       "31473    produto chegar ja devolver pois defeito nao se...\n",
       "Name: tratamento_4, Length: 31474, dtype: object"
      ]
     },
     "execution_count": 46,
     "metadata": {},
     "output_type": "execute_result"
    }
   ],
   "source": [
    "df['tratamento_4']"
   ]
  },
  {
   "cell_type": "markdown",
   "metadata": {
    "id": "rEA8_J65LR_0"
   },
   "source": [
    "# Otimizando o Doc2vec"
   ]
  },
  {
   "cell_type": "code",
   "execution_count": null,
   "metadata": {
    "colab": {
     "base_uri": "https://localhost:8080/",
     "height": 927
    },
    "id": "UeNBAIhjkZ19",
    "outputId": "c7f8ad51-e359-432d-bf30-f50ee4271b12"
   },
   "outputs": [
    {
     "data": {
      "application/vnd.google.colaboratory.intrinsic+json": {
       "summary": "{\n  \"name\": \"df_lem\",\n  \"rows\": 31111,\n  \"fields\": [\n    {\n      \"column\": \"nota_review\",\n      \"properties\": {\n        \"dtype\": \"number\",\n        \"std\": 1,\n        \"min\": 1,\n        \"max\": 5,\n        \"num_unique_values\": 5,\n        \"samples\": [\n          4,\n          3,\n          2\n        ],\n        \"semantic_type\": \"\",\n        \"description\": \"\"\n      }\n    },\n    {\n      \"column\": \"review\",\n      \"properties\": {\n        \"dtype\": \"string\",\n        \"num_unique_values\": 31111,\n        \"samples\": [\n          \"Recebi o produto que eh falso quero meu dinheiro de volta \",\n          \"Comprei 2 travesseiros e recebi apenas 1.\",\n          \"comprei um rel\\u00f3gio chegou outro. quero fazer a troca!\"\n        ],\n        \"semantic_type\": \"\",\n        \"description\": \"\"\n      }\n    },\n    {\n      \"column\": \"review_token\",\n      \"properties\": {\n        \"dtype\": \"object\",\n        \"semantic_type\": \"\",\n        \"description\": \"\"\n      }\n    },\n    {\n      \"column\": \"tratamento_1\",\n      \"properties\": {\n        \"dtype\": \"string\",\n        \"num_unique_values\": 31111,\n        \"samples\": [\n          \"recebi produto eh falso quero dinheiro volta\",\n          \"comprei 2 travesseiros recebi apenas 1\",\n          \"comprei rel\\u00f3gio chegou outro quero fazer troca\"\n        ],\n        \"semantic_type\": \"\",\n        \"description\": \"\"\n      }\n    },\n    {\n      \"column\": \"tratamento_2\",\n      \"properties\": {\n        \"dtype\": \"string\",\n        \"num_unique_values\": 31111,\n        \"samples\": [\n          \"recebi produto eh falso quero dinheiro volta\",\n          \"comprei 2 travesseiros recebi apenas 1\",\n          \"comprei relogio chegou outro quero fazer troca\"\n        ],\n        \"semantic_type\": \"\",\n        \"description\": \"\"\n      }\n    },\n    {\n      \"column\": \"tratamento_3\",\n      \"properties\": {\n        \"dtype\": \"string\",\n        \"num_unique_values\": 31111,\n        \"samples\": [\n          \"recebi produto eh falso quero dinheiro volta\",\n          \"comprei 2 travesseiros recebi apenas 1\",\n          \"comprei relogio chegou outro quero fazer troca\"\n        ],\n        \"semantic_type\": \"\",\n        \"description\": \"\"\n      }\n    },\n    {\n      \"column\": \"tratamento_4\",\n      \"properties\": {\n        \"dtype\": \"string\",\n        \"num_unique_values\": 31111,\n        \"samples\": [\n          \"recebi produto eh falso querer dinheiro volta\",\n          \"comprei 2 travesseiro recebi apenas 1\",\n          \"comprei relogio chegar outro querer fazer troca\"\n        ],\n        \"semantic_type\": \"\",\n        \"description\": \"\"\n      }\n    }\n  ]\n}",
       "type": "dataframe",
       "variable_name": "df_lem"
      },
      "text/html": [
       "\n",
       "  <div id=\"df-45d2bfd4-a57e-43df-8f24-d5a88cdd648d\" class=\"colab-df-container\">\n",
       "    <div>\n",
       "<style scoped>\n",
       "    .dataframe tbody tr th:only-of-type {\n",
       "        vertical-align: middle;\n",
       "    }\n",
       "\n",
       "    .dataframe tbody tr th {\n",
       "        vertical-align: top;\n",
       "    }\n",
       "\n",
       "    .dataframe thead th {\n",
       "        text-align: right;\n",
       "    }\n",
       "</style>\n",
       "<table border=\"1\" class=\"dataframe\">\n",
       "  <thead>\n",
       "    <tr style=\"text-align: right;\">\n",
       "      <th></th>\n",
       "      <th>nota_review</th>\n",
       "      <th>review</th>\n",
       "      <th>review_token</th>\n",
       "      <th>tratamento_1</th>\n",
       "      <th>tratamento_2</th>\n",
       "      <th>tratamento_3</th>\n",
       "      <th>tratamento_4</th>\n",
       "    </tr>\n",
       "  </thead>\n",
       "  <tbody>\n",
       "    <tr>\n",
       "      <th>0</th>\n",
       "      <td>5</td>\n",
       "      <td>Recebi bem antes do prazo estipulado.</td>\n",
       "      <td>[recebi, bem, antes, prazo, estipulado]</td>\n",
       "      <td>recebi bem antes prazo estipulado</td>\n",
       "      <td>recebi bem antes prazo estipulado</td>\n",
       "      <td>recebi bem antes prazo estipulado</td>\n",
       "      <td>recebi bem antes prazo estipulado</td>\n",
       "    </tr>\n",
       "    <tr>\n",
       "      <th>1</th>\n",
       "      <td>5</td>\n",
       "      <td>Parabéns lojas Zoop adorei comprar pela Intern...</td>\n",
       "      <td>[parabens, lojas, zoop, adorei, comprar, inter...</td>\n",
       "      <td>parabéns lojas zoop adorei comprar internet se...</td>\n",
       "      <td>parabens lojas zoop adorei comprar internet se...</td>\n",
       "      <td>parabens lojas zop adorei comprar internet seg...</td>\n",
       "      <td>parabem loja zop adorei comprar internet segur...</td>\n",
       "    </tr>\n",
       "    <tr>\n",
       "      <th>2</th>\n",
       "      <td>4</td>\n",
       "      <td>aparelho eficiente. no site a marca do aparelh...</td>\n",
       "      <td>[aparelho, eficiente, site, marca, aparelho, i...</td>\n",
       "      <td>aparelho eficiente site marca aparelho impress...</td>\n",
       "      <td>aparelho eficiente site marca aparelho impress...</td>\n",
       "      <td>aparelho eficiente site marca aparelho impress...</td>\n",
       "      <td>aparelho eficiente site marca aparelho imprimi...</td>\n",
       "    </tr>\n",
       "    <tr>\n",
       "      <th>3</th>\n",
       "      <td>4</td>\n",
       "      <td>Mas um pouco ,travando...pelo valor ta Boa.\\r\\n</td>\n",
       "      <td>[pouco, travando, valor, ta, boa]</td>\n",
       "      <td>pouco travando valor ta boa</td>\n",
       "      <td>pouco travando valor ta boa</td>\n",
       "      <td>pouco travando valor ta boa</td>\n",
       "      <td>pouco travar valor to bom</td>\n",
       "    </tr>\n",
       "    <tr>\n",
       "      <th>4</th>\n",
       "      <td>5</td>\n",
       "      <td>Vendedor confiável, produto ok e entrega antes...</td>\n",
       "      <td>[vendedor, confiavel, produto, ok, entrega, an...</td>\n",
       "      <td>vendedor confiável produto ok entrega antes prazo</td>\n",
       "      <td>vendedor confiavel produto ok entrega antes prazo</td>\n",
       "      <td>vendedor confiavel produto ok entrega antes prazo</td>\n",
       "      <td>vendedor confiavel produto ok entregar antes p...</td>\n",
       "    </tr>\n",
       "    <tr>\n",
       "      <th>...</th>\n",
       "      <td>...</td>\n",
       "      <td>...</td>\n",
       "      <td>...</td>\n",
       "      <td>...</td>\n",
       "      <td>...</td>\n",
       "      <td>...</td>\n",
       "      <td>...</td>\n",
       "    </tr>\n",
       "    <tr>\n",
       "      <th>31469</th>\n",
       "      <td>5</td>\n",
       "      <td>Entregou dentro do prazo. O produto chegou em ...</td>\n",
       "      <td>[entregou, dentro, prazo, produto, chegou, con...</td>\n",
       "      <td>entregou dentro prazo produto chegou condições...</td>\n",
       "      <td>entregou dentro prazo produto chegou condicoes...</td>\n",
       "      <td>entregou dentro prazo produto chegou condicoes...</td>\n",
       "      <td>entregar dentro prazo produto chegar condico p...</td>\n",
       "    </tr>\n",
       "    <tr>\n",
       "      <th>31470</th>\n",
       "      <td>3</td>\n",
       "      <td>O produto não foi enviado com NF, não existe v...</td>\n",
       "      <td>[produto, nao, enviado, nf, nao, existe, venda...</td>\n",
       "      <td>produto não enviado nf não existe venda nf cer...</td>\n",
       "      <td>produto nao enviado nf nao existe venda nf cer...</td>\n",
       "      <td>produto nao enviado nf nao existe venda nf cer...</td>\n",
       "      <td>produto nao enviado em f nao existir venda em ...</td>\n",
       "    </tr>\n",
       "    <tr>\n",
       "      <th>31471</th>\n",
       "      <td>5</td>\n",
       "      <td>Excelente mochila, entrega super rápida. Super...</td>\n",
       "      <td>[excelente, mochila, entrega, super, rapida, s...</td>\n",
       "      <td>excelente mochila entrega super rápida super r...</td>\n",
       "      <td>excelente mochila entrega super rapida super r...</td>\n",
       "      <td>excelente mochila entrega super rapida super r...</td>\n",
       "      <td>excelente mochila entregar super rapido super ...</td>\n",
       "    </tr>\n",
       "    <tr>\n",
       "      <th>31472</th>\n",
       "      <td>1</td>\n",
       "      <td>Solicitei a compra de uma capa de retrovisor c...</td>\n",
       "      <td>[solicitei, compra, capa, retrovisor, celta, p...</td>\n",
       "      <td>solicitei compra capa retrovisor celta prisma ...</td>\n",
       "      <td>solicitei compra capa retrovisor celta prisma ...</td>\n",
       "      <td>solicitei compra capa retrovisor celta prisma ...</td>\n",
       "      <td>solicitei compra capa retrovisor celta prisma ...</td>\n",
       "    </tr>\n",
       "    <tr>\n",
       "      <th>31473</th>\n",
       "      <td>1</td>\n",
       "      <td>meu produto chegou e ja tenho que devolver, po...</td>\n",
       "      <td>[produto, chegou, ja, devolver, pois, defeito,...</td>\n",
       "      <td>produto chegou ja devolver pois defeito não se...</td>\n",
       "      <td>produto chegou ja devolver pois defeito nao se...</td>\n",
       "      <td>produto chegou ja devolver pois defeito nao se...</td>\n",
       "      <td>produto chegar ja devolver pois defeito nao se...</td>\n",
       "    </tr>\n",
       "  </tbody>\n",
       "</table>\n",
       "<p>31111 rows × 7 columns</p>\n",
       "</div>\n",
       "    <div class=\"colab-df-buttons\">\n",
       "\n",
       "  <div class=\"colab-df-container\">\n",
       "    <button class=\"colab-df-convert\" onclick=\"convertToInteractive('df-45d2bfd4-a57e-43df-8f24-d5a88cdd648d')\"\n",
       "            title=\"Convert this dataframe to an interactive table.\"\n",
       "            style=\"display:none;\">\n",
       "\n",
       "  <svg xmlns=\"http://www.w3.org/2000/svg\" height=\"24px\" viewBox=\"0 -960 960 960\">\n",
       "    <path d=\"M120-120v-720h720v720H120Zm60-500h600v-160H180v160Zm220 220h160v-160H400v160Zm0 220h160v-160H400v160ZM180-400h160v-160H180v160Zm440 0h160v-160H620v160ZM180-180h160v-160H180v160Zm440 0h160v-160H620v160Z\"/>\n",
       "  </svg>\n",
       "    </button>\n",
       "\n",
       "  <style>\n",
       "    .colab-df-container {\n",
       "      display:flex;\n",
       "      gap: 12px;\n",
       "    }\n",
       "\n",
       "    .colab-df-convert {\n",
       "      background-color: #E8F0FE;\n",
       "      border: none;\n",
       "      border-radius: 50%;\n",
       "      cursor: pointer;\n",
       "      display: none;\n",
       "      fill: #1967D2;\n",
       "      height: 32px;\n",
       "      padding: 0 0 0 0;\n",
       "      width: 32px;\n",
       "    }\n",
       "\n",
       "    .colab-df-convert:hover {\n",
       "      background-color: #E2EBFA;\n",
       "      box-shadow: 0px 1px 2px rgba(60, 64, 67, 0.3), 0px 1px 3px 1px rgba(60, 64, 67, 0.15);\n",
       "      fill: #174EA6;\n",
       "    }\n",
       "\n",
       "    .colab-df-buttons div {\n",
       "      margin-bottom: 4px;\n",
       "    }\n",
       "\n",
       "    [theme=dark] .colab-df-convert {\n",
       "      background-color: #3B4455;\n",
       "      fill: #D2E3FC;\n",
       "    }\n",
       "\n",
       "    [theme=dark] .colab-df-convert:hover {\n",
       "      background-color: #434B5C;\n",
       "      box-shadow: 0px 1px 3px 1px rgba(0, 0, 0, 0.15);\n",
       "      filter: drop-shadow(0px 1px 2px rgba(0, 0, 0, 0.3));\n",
       "      fill: #FFFFFF;\n",
       "    }\n",
       "  </style>\n",
       "\n",
       "    <script>\n",
       "      const buttonEl =\n",
       "        document.querySelector('#df-45d2bfd4-a57e-43df-8f24-d5a88cdd648d button.colab-df-convert');\n",
       "      buttonEl.style.display =\n",
       "        google.colab.kernel.accessAllowed ? 'block' : 'none';\n",
       "\n",
       "      async function convertToInteractive(key) {\n",
       "        const element = document.querySelector('#df-45d2bfd4-a57e-43df-8f24-d5a88cdd648d');\n",
       "        const dataTable =\n",
       "          await google.colab.kernel.invokeFunction('convertToInteractive',\n",
       "                                                    [key], {});\n",
       "        if (!dataTable) return;\n",
       "\n",
       "        const docLinkHtml = 'Like what you see? Visit the ' +\n",
       "          '<a target=\"_blank\" href=https://colab.research.google.com/notebooks/data_table.ipynb>data table notebook</a>'\n",
       "          + ' to learn more about interactive tables.';\n",
       "        element.innerHTML = '';\n",
       "        dataTable['output_type'] = 'display_data';\n",
       "        await google.colab.output.renderOutput(dataTable, element);\n",
       "        const docLink = document.createElement('div');\n",
       "        docLink.innerHTML = docLinkHtml;\n",
       "        element.appendChild(docLink);\n",
       "      }\n",
       "    </script>\n",
       "  </div>\n",
       "\n",
       "\n",
       "<div id=\"df-aebb30ab-becc-491a-af56-2857444ef7a9\">\n",
       "  <button class=\"colab-df-quickchart\" onclick=\"quickchart('df-aebb30ab-becc-491a-af56-2857444ef7a9')\"\n",
       "            title=\"Suggest charts\"\n",
       "            style=\"display:none;\">\n",
       "\n",
       "<svg xmlns=\"http://www.w3.org/2000/svg\" height=\"24px\"viewBox=\"0 0 24 24\"\n",
       "     width=\"24px\">\n",
       "    <g>\n",
       "        <path d=\"M19 3H5c-1.1 0-2 .9-2 2v14c0 1.1.9 2 2 2h14c1.1 0 2-.9 2-2V5c0-1.1-.9-2-2-2zM9 17H7v-7h2v7zm4 0h-2V7h2v10zm4 0h-2v-4h2v4z\"/>\n",
       "    </g>\n",
       "</svg>\n",
       "  </button>\n",
       "\n",
       "<style>\n",
       "  .colab-df-quickchart {\n",
       "      --bg-color: #E8F0FE;\n",
       "      --fill-color: #1967D2;\n",
       "      --hover-bg-color: #E2EBFA;\n",
       "      --hover-fill-color: #174EA6;\n",
       "      --disabled-fill-color: #AAA;\n",
       "      --disabled-bg-color: #DDD;\n",
       "  }\n",
       "\n",
       "  [theme=dark] .colab-df-quickchart {\n",
       "      --bg-color: #3B4455;\n",
       "      --fill-color: #D2E3FC;\n",
       "      --hover-bg-color: #434B5C;\n",
       "      --hover-fill-color: #FFFFFF;\n",
       "      --disabled-bg-color: #3B4455;\n",
       "      --disabled-fill-color: #666;\n",
       "  }\n",
       "\n",
       "  .colab-df-quickchart {\n",
       "    background-color: var(--bg-color);\n",
       "    border: none;\n",
       "    border-radius: 50%;\n",
       "    cursor: pointer;\n",
       "    display: none;\n",
       "    fill: var(--fill-color);\n",
       "    height: 32px;\n",
       "    padding: 0;\n",
       "    width: 32px;\n",
       "  }\n",
       "\n",
       "  .colab-df-quickchart:hover {\n",
       "    background-color: var(--hover-bg-color);\n",
       "    box-shadow: 0 1px 2px rgba(60, 64, 67, 0.3), 0 1px 3px 1px rgba(60, 64, 67, 0.15);\n",
       "    fill: var(--button-hover-fill-color);\n",
       "  }\n",
       "\n",
       "  .colab-df-quickchart-complete:disabled,\n",
       "  .colab-df-quickchart-complete:disabled:hover {\n",
       "    background-color: var(--disabled-bg-color);\n",
       "    fill: var(--disabled-fill-color);\n",
       "    box-shadow: none;\n",
       "  }\n",
       "\n",
       "  .colab-df-spinner {\n",
       "    border: 2px solid var(--fill-color);\n",
       "    border-color: transparent;\n",
       "    border-bottom-color: var(--fill-color);\n",
       "    animation:\n",
       "      spin 1s steps(1) infinite;\n",
       "  }\n",
       "\n",
       "  @keyframes spin {\n",
       "    0% {\n",
       "      border-color: transparent;\n",
       "      border-bottom-color: var(--fill-color);\n",
       "      border-left-color: var(--fill-color);\n",
       "    }\n",
       "    20% {\n",
       "      border-color: transparent;\n",
       "      border-left-color: var(--fill-color);\n",
       "      border-top-color: var(--fill-color);\n",
       "    }\n",
       "    30% {\n",
       "      border-color: transparent;\n",
       "      border-left-color: var(--fill-color);\n",
       "      border-top-color: var(--fill-color);\n",
       "      border-right-color: var(--fill-color);\n",
       "    }\n",
       "    40% {\n",
       "      border-color: transparent;\n",
       "      border-right-color: var(--fill-color);\n",
       "      border-top-color: var(--fill-color);\n",
       "    }\n",
       "    60% {\n",
       "      border-color: transparent;\n",
       "      border-right-color: var(--fill-color);\n",
       "    }\n",
       "    80% {\n",
       "      border-color: transparent;\n",
       "      border-right-color: var(--fill-color);\n",
       "      border-bottom-color: var(--fill-color);\n",
       "    }\n",
       "    90% {\n",
       "      border-color: transparent;\n",
       "      border-bottom-color: var(--fill-color);\n",
       "    }\n",
       "  }\n",
       "</style>\n",
       "\n",
       "  <script>\n",
       "    async function quickchart(key) {\n",
       "      const quickchartButtonEl =\n",
       "        document.querySelector('#' + key + ' button');\n",
       "      quickchartButtonEl.disabled = true;  // To prevent multiple clicks.\n",
       "      quickchartButtonEl.classList.add('colab-df-spinner');\n",
       "      try {\n",
       "        const charts = await google.colab.kernel.invokeFunction(\n",
       "            'suggestCharts', [key], {});\n",
       "      } catch (error) {\n",
       "        console.error('Error during call to suggestCharts:', error);\n",
       "      }\n",
       "      quickchartButtonEl.classList.remove('colab-df-spinner');\n",
       "      quickchartButtonEl.classList.add('colab-df-quickchart-complete');\n",
       "    }\n",
       "    (() => {\n",
       "      let quickchartButtonEl =\n",
       "        document.querySelector('#df-aebb30ab-becc-491a-af56-2857444ef7a9 button');\n",
       "      quickchartButtonEl.style.display =\n",
       "        google.colab.kernel.accessAllowed ? 'block' : 'none';\n",
       "    })();\n",
       "  </script>\n",
       "</div>\n",
       "\n",
       "  <div id=\"id_9ffcee41-8a93-459e-a5ac-78fbee365174\">\n",
       "    <style>\n",
       "      .colab-df-generate {\n",
       "        background-color: #E8F0FE;\n",
       "        border: none;\n",
       "        border-radius: 50%;\n",
       "        cursor: pointer;\n",
       "        display: none;\n",
       "        fill: #1967D2;\n",
       "        height: 32px;\n",
       "        padding: 0 0 0 0;\n",
       "        width: 32px;\n",
       "      }\n",
       "\n",
       "      .colab-df-generate:hover {\n",
       "        background-color: #E2EBFA;\n",
       "        box-shadow: 0px 1px 2px rgba(60, 64, 67, 0.3), 0px 1px 3px 1px rgba(60, 64, 67, 0.15);\n",
       "        fill: #174EA6;\n",
       "      }\n",
       "\n",
       "      [theme=dark] .colab-df-generate {\n",
       "        background-color: #3B4455;\n",
       "        fill: #D2E3FC;\n",
       "      }\n",
       "\n",
       "      [theme=dark] .colab-df-generate:hover {\n",
       "        background-color: #434B5C;\n",
       "        box-shadow: 0px 1px 3px 1px rgba(0, 0, 0, 0.15);\n",
       "        filter: drop-shadow(0px 1px 2px rgba(0, 0, 0, 0.3));\n",
       "        fill: #FFFFFF;\n",
       "      }\n",
       "    </style>\n",
       "    <button class=\"colab-df-generate\" onclick=\"generateWithVariable('df_lem')\"\n",
       "            title=\"Generate code using this dataframe.\"\n",
       "            style=\"display:none;\">\n",
       "\n",
       "  <svg xmlns=\"http://www.w3.org/2000/svg\" height=\"24px\"viewBox=\"0 0 24 24\"\n",
       "       width=\"24px\">\n",
       "    <path d=\"M7,19H8.4L18.45,9,17,7.55,7,17.6ZM5,21V16.75L18.45,3.32a2,2,0,0,1,2.83,0l1.4,1.43a1.91,1.91,0,0,1,.58,1.4,1.91,1.91,0,0,1-.58,1.4L9.25,21ZM18.45,9,17,7.55Zm-12,3A5.31,5.31,0,0,0,4.9,8.1,5.31,5.31,0,0,0,1,6.5,5.31,5.31,0,0,0,4.9,4.9,5.31,5.31,0,0,0,6.5,1,5.31,5.31,0,0,0,8.1,4.9,5.31,5.31,0,0,0,12,6.5,5.46,5.46,0,0,0,6.5,12Z\"/>\n",
       "  </svg>\n",
       "    </button>\n",
       "    <script>\n",
       "      (() => {\n",
       "      const buttonEl =\n",
       "        document.querySelector('#id_9ffcee41-8a93-459e-a5ac-78fbee365174 button.colab-df-generate');\n",
       "      buttonEl.style.display =\n",
       "        google.colab.kernel.accessAllowed ? 'block' : 'none';\n",
       "\n",
       "      buttonEl.onclick = () => {\n",
       "        google.colab.notebook.generateWithVariable('df_lem');\n",
       "      }\n",
       "      })();\n",
       "    </script>\n",
       "  </div>\n",
       "\n",
       "    </div>\n",
       "  </div>\n"
      ],
      "text/plain": [
       "       nota_review                                             review  \\\n",
       "0                5              Recebi bem antes do prazo estipulado.   \n",
       "1                5  Parabéns lojas Zoop adorei comprar pela Intern...   \n",
       "2                4  aparelho eficiente. no site a marca do aparelh...   \n",
       "3                4    Mas um pouco ,travando...pelo valor ta Boa.\\r\\n   \n",
       "4                5  Vendedor confiável, produto ok e entrega antes...   \n",
       "...            ...                                                ...   \n",
       "31469            5  Entregou dentro do prazo. O produto chegou em ...   \n",
       "31470            3  O produto não foi enviado com NF, não existe v...   \n",
       "31471            5  Excelente mochila, entrega super rápida. Super...   \n",
       "31472            1  Solicitei a compra de uma capa de retrovisor c...   \n",
       "31473            1  meu produto chegou e ja tenho que devolver, po...   \n",
       "\n",
       "                                            review_token  \\\n",
       "0                [recebi, bem, antes, prazo, estipulado]   \n",
       "1      [parabens, lojas, zoop, adorei, comprar, inter...   \n",
       "2      [aparelho, eficiente, site, marca, aparelho, i...   \n",
       "3                      [pouco, travando, valor, ta, boa]   \n",
       "4      [vendedor, confiavel, produto, ok, entrega, an...   \n",
       "...                                                  ...   \n",
       "31469  [entregou, dentro, prazo, produto, chegou, con...   \n",
       "31470  [produto, nao, enviado, nf, nao, existe, venda...   \n",
       "31471  [excelente, mochila, entrega, super, rapida, s...   \n",
       "31472  [solicitei, compra, capa, retrovisor, celta, p...   \n",
       "31473  [produto, chegou, ja, devolver, pois, defeito,...   \n",
       "\n",
       "                                            tratamento_1  \\\n",
       "0                      recebi bem antes prazo estipulado   \n",
       "1      parabéns lojas zoop adorei comprar internet se...   \n",
       "2      aparelho eficiente site marca aparelho impress...   \n",
       "3                            pouco travando valor ta boa   \n",
       "4      vendedor confiável produto ok entrega antes prazo   \n",
       "...                                                  ...   \n",
       "31469  entregou dentro prazo produto chegou condições...   \n",
       "31470  produto não enviado nf não existe venda nf cer...   \n",
       "31471  excelente mochila entrega super rápida super r...   \n",
       "31472  solicitei compra capa retrovisor celta prisma ...   \n",
       "31473  produto chegou ja devolver pois defeito não se...   \n",
       "\n",
       "                                            tratamento_2  \\\n",
       "0                      recebi bem antes prazo estipulado   \n",
       "1      parabens lojas zoop adorei comprar internet se...   \n",
       "2      aparelho eficiente site marca aparelho impress...   \n",
       "3                            pouco travando valor ta boa   \n",
       "4      vendedor confiavel produto ok entrega antes prazo   \n",
       "...                                                  ...   \n",
       "31469  entregou dentro prazo produto chegou condicoes...   \n",
       "31470  produto nao enviado nf nao existe venda nf cer...   \n",
       "31471  excelente mochila entrega super rapida super r...   \n",
       "31472  solicitei compra capa retrovisor celta prisma ...   \n",
       "31473  produto chegou ja devolver pois defeito nao se...   \n",
       "\n",
       "                                            tratamento_3  \\\n",
       "0                      recebi bem antes prazo estipulado   \n",
       "1      parabens lojas zop adorei comprar internet seg...   \n",
       "2      aparelho eficiente site marca aparelho impress...   \n",
       "3                            pouco travando valor ta boa   \n",
       "4      vendedor confiavel produto ok entrega antes prazo   \n",
       "...                                                  ...   \n",
       "31469  entregou dentro prazo produto chegou condicoes...   \n",
       "31470  produto nao enviado nf nao existe venda nf cer...   \n",
       "31471  excelente mochila entrega super rapida super r...   \n",
       "31472  solicitei compra capa retrovisor celta prisma ...   \n",
       "31473  produto chegou ja devolver pois defeito nao se...   \n",
       "\n",
       "                                            tratamento_4  \n",
       "0                      recebi bem antes prazo estipulado  \n",
       "1      parabem loja zop adorei comprar internet segur...  \n",
       "2      aparelho eficiente site marca aparelho imprimi...  \n",
       "3                              pouco travar valor to bom  \n",
       "4      vendedor confiavel produto ok entregar antes p...  \n",
       "...                                                  ...  \n",
       "31469  entregar dentro prazo produto chegar condico p...  \n",
       "31470  produto nao enviado em f nao existir venda em ...  \n",
       "31471  excelente mochila entregar super rapido super ...  \n",
       "31472  solicitei compra capa retrovisor celta prisma ...  \n",
       "31473  produto chegar ja devolver pois defeito nao se...  \n",
       "\n",
       "[31111 rows x 7 columns]"
      ]
     },
     "execution_count": 47,
     "metadata": {},
     "output_type": "execute_result"
    }
   ],
   "source": [
    "df_lem = df.drop_duplicates(subset=['tratamento_4'])\n",
    "df_lem"
   ]
  },
  {
   "cell_type": "code",
   "execution_count": null,
   "metadata": {
    "id": "tdAj4oBrkZv8"
   },
   "outputs": [],
   "source": [
    "df_lem.reset_index(drop=True, inplace=True)"
   ]
  },
  {
   "cell_type": "code",
   "execution_count": null,
   "metadata": {
    "colab": {
     "base_uri": "https://localhost:8080/"
    },
    "id": "GmbAHJSNkSMR",
    "outputId": "9d3aa5e1-051c-472f-84be-0b64c43963ca"
   },
   "outputs": [
    {
     "name": "stderr",
     "output_type": "stream",
     "text": [
      "<ipython-input-49-24e313764618>:1: SettingWithCopyWarning: \n",
      "A value is trying to be set on a copy of a slice from a DataFrame.\n",
      "Try using .loc[row_indexer,col_indexer] = value instead\n",
      "\n",
      "See the caveats in the documentation: https://pandas.pydata.org/pandas-docs/stable/user_guide/indexing.html#returning-a-view-versus-a-copy\n",
      "  df_lem['review_token'] = df_lem['tratamento_4'].apply(word_tokenize_pt)\n"
     ]
    },
    {
     "name": "stdout",
     "output_type": "stream",
     "text": [
      "Review: muito desencontro entrega produto - Similaridade: 0.8857\n",
      "Review: entrega demorando - Similaridade: 0.8686\n",
      "Review: correio sairam greve - Similaridade: 0.8595\n",
      "Review: adoro compro sempre - Similaridade: 0.8577\n",
      "Review: entregar atrasar - Similaridade: 0.8521\n"
     ]
    }
   ],
   "source": [
    "# Aplica a tokenização nas reviews armazenadas na coluna 'tratamento_4'\n",
    "df_lem['review_token'] = df_lem['tratamento_4'].apply(word_tokenize)\n",
    "\n",
    "# Cria documentos tagueados para treinamento do modelo\n",
    "# Cada linha do dataframe é representada como um TaggedDocument\n",
    "# com tokens das reviews e um identificador numérico\n",
    "\n",
    "dados_tag = [TaggedDocument(words=linha['review_token'], tags=[str(i)]) for i, linha in df_lem.iterrows()]\n",
    "\n",
    "# Treina um modelo Doc2Vec com os documentos gerados\n",
    "modelo = Doc2Vec(dados_tag, vector_size=100, min_count=2, window=2,\n",
    "                 workers=1, seed=45, epochs=20)\n",
    "\n",
    "# Encontra as frases mais similares a um determinado termo\n",
    "frases_similares = modelo.dv.most_similar([modelo.infer_vector(['entrega'])], topn=5)\n",
    "\n",
    "# Exibe as reviews mais similares à palavra 'entrega'\n",
    "for idx, similaridade in frases_similares:\n",
    "    print(f\"Review: {df_lem.iloc[int(idx)]['tratamento_4']} - Similaridade: {similaridade:.4f}\")"
   ]
  },
  {
   "cell_type": "markdown",
   "metadata": {
    "id": "Qx6ADjtqYX9h"
   },
   "source": [
    "**Treinamento do Doc2vec**"
   ]
  },
  {
   "cell_type": "code",
   "execution_count": null,
   "metadata": {
    "id": "D0OCKvUVYdtt"
   },
   "outputs": [],
   "source": [
    "# Inicializa o modelo Doc2Vec com os parâmetros especificados\n",
    "modelo = Doc2Vec(vector_size=300,  # Define o tamanho dos vetores de palavras\n",
    "                 min_count=2,  # Ignora palavras que aparecem menos de 2 vezes no corpus\n",
    "                 window=5,  # Define o tamanho da janela de contexto\n",
    "                 workers=1,  # Número de threads usadas no treinamento\n",
    "                 seed=45,  # Define uma semente para reprodutibilidade\n",
    "                 epochs=15)  # Número de épocas de treinamento\n",
    "\n",
    "# Constrói o vocabulário do modelo a partir dos documentos tagueados\n",
    "modelo.build_vocab(dados_tag)\n",
    "\n",
    "# Treina o modelo Doc2Vec com os dados fornecidos\n",
    "modelo.train(dados_tag, \n",
    "             total_examples=modelo.corpus_count,  # Total de documentos no corpus\n",
    "             epochs=modelo.epochs)  # Número de épocas especificadas para treinamento"
   ]
  },
  {
   "cell_type": "markdown",
   "metadata": {
    "id": "_mly_Iy7uKnx"
   },
   "source": [
    "**Verificando a similardade - Doc2Vec**"
   ]
  },
  {
   "cell_type": "markdown",
   "metadata": {},
   "source": [
    "1. **Entrega**"
   ]
  },
  {
   "cell_type": "code",
   "execution_count": null,
   "metadata": {
    "colab": {
     "base_uri": "https://localhost:8080/"
    },
    "id": "YlZd6i7QYnAV",
    "outputId": "65def39b-6cba-4bf3-bed1-305d25d539bf"
   },
   "outputs": [
    {
     "name": "stdout",
     "output_type": "stream",
     "text": [
      "Review: ultimamente atrasando entregas - Similaridade: 0.9480\n",
      "Review: compro sempre - Similaridade: 0.9349\n",
      "Review: gostaria entregas rápidas - Similaridade: 0.9254\n",
      "Review: embalagem veio violada - Similaridade: 0.9250\n",
      "Review: muitos desencontros entregas produtos - Similaridade: 0.9235\n"
     ]
    }
   ],
   "source": [
    "# Obtém as frases mais similares ao vetor inferido da palavra 'entrega'\n",
    "# Retorna as 5 frases mais semelhantes no espaço vetorial\n",
    "frases_similares = modelo.dv.most_similar([modelo.infer_vector(['entrega'])], topn=5)\n",
    "\n",
    "# Itera sobre as frases mais similares e imprime a review correspondente e seu grau de similaridade\n",
    "for idx, similaridade in frases_similares:\n",
    "    print(f\"Review: {df_lem.iloc[int(idx)]['tratamento_1']} - Similaridade: {similaridade:.4f}\")"
   ]
  },
  {
   "cell_type": "markdown",
   "metadata": {},
   "source": [
    "2. **Vendedor**"
   ]
  },
  {
   "cell_type": "code",
   "execution_count": null,
   "metadata": {
    "colab": {
     "base_uri": "https://localhost:8080/"
    },
    "id": "JMr5K97lZBuo",
    "outputId": "3fe85b71-8a37-41e6-827d-fa99cf71a786"
   },
   "outputs": [
    {
     "name": "stdout",
     "output_type": "stream",
     "text": [
      "Review: vendedor bom - Similaridade: 0.9413\n",
      "Review: nota 10 vendedor - Similaridade: 0.9359\n",
      "Review: vendedor pontualíssimo recomendo - Similaridade: 0.9326\n",
      "Review: produto entregue dentro prazo estipulado vendedor - Similaridade: 0.9325\n",
      "Review: compraria novamente vendedor - Similaridade: 0.9280\n"
     ]
    }
   ],
   "source": [
    "# Obtém as frases mais similares ao vetor inferido da palavra 'vendedor'\n",
    "frases_similares = modelo.dv.most_similar([modelo.infer_vector(['vendedor'])], topn=5)\n",
    "\n",
    "for idx, similaridade in frases_similares:\n",
    "    print(f\"Review: {df_lem.iloc[int(idx)]['tratamento_1']} - Similaridade: {similaridade:.4f}\")"
   ]
  },
  {
   "cell_type": "markdown",
   "metadata": {},
   "source": [
    "3. **Reputação da Loja**"
   ]
  },
  {
   "cell_type": "code",
   "execution_count": null,
   "metadata": {
    "colab": {
     "base_uri": "https://localhost:8080/"
    },
    "id": "mRdK9AaAZDEX",
    "outputId": "f9c45be6-389f-45ef-9a66-a344828307f7"
   },
   "outputs": [
    {
     "name": "stdout",
     "output_type": "stream",
     "text": [
      "Review: atendimento perfeito dando garantia cliente - Similaridade: 0.2342\n",
      "Review: ótimo produto veio perfeitamente embalado atende todas necessidades precisávamos loja atenciosa - Similaridade: 0.2280\n",
      "Review: tudo ok rápido entrega bem embalado recebimento todos grupo baratheon ob - Similaridade: 0.2199\n",
      "Review: adquiri duas memórias pc antigo recebi defeito entrei contato através duas mensagens deram trabalho responder decepcionou - Similaridade: 0.2194\n",
      "Review: bem embalado aplicação não tão difícil realmente feito 2 pessoas veio coloração certa adesivo gruda rápido momento não descolou nenhuma ponta recomendo - Similaridade: 0.2133\n"
     ]
    }
   ],
   "source": [
    "# Obtém as frases mais similares ao vetor inferido da palavra 'reputacao loja'\n",
    "frases_similares = modelo.dv.most_similar([modelo.infer_vector(['reputacao loja'])],topn=5)\n",
    "\n",
    "for idx, similaridade in frases_similares:\n",
    "    print(f\"Review: {df_lem.iloc[int(idx)]['tratamento_1']} - Similaridade: {similaridade:.4f}\")"
   ]
  },
  {
   "cell_type": "markdown",
   "metadata": {
    "id": "02CTQJoVLUCV"
   },
   "source": [
    "# Considerando o significado das frases"
   ]
  },
  {
   "cell_type": "code",
   "execution_count": null,
   "metadata": {
    "id": "0kE8qyX8YfbB"
   },
   "outputs": [],
   "source": [
    "modulo_url = 'https://tfhub.dev/google/universal-sentence-encoder/4'"
   ]
  },
  {
   "cell_type": "code",
   "execution_count": null,
   "metadata": {
    "id": "iGgg76NOZHlp"
   },
   "outputs": [],
   "source": [
    "import tensorflow_hub as hub\n",
    "\n",
    "modelo = hub.load(modulo_url)"
   ]
  },
  {
   "cell_type": "code",
   "execution_count": null,
   "metadata": {
    "colab": {
     "base_uri": "https://localhost:8080/"
    },
    "id": "WZffdgHgkAkz",
    "outputId": "33a35d2e-49c9-4a98-827b-f3a3544c7b35"
   },
   "outputs": [],
   "source": [
    "# modelo"
   ]
  },
  {
   "cell_type": "code",
   "execution_count": null,
   "metadata": {
    "colab": {
     "base_uri": "https://localhost:8080/"
    },
    "id": "IrFDvrJdZOHB",
    "outputId": "30dcdd7e-f8d3-4a99-e9a3-458acd88077a"
   },
   "outputs": [],
   "source": [
    "reviews = df['tratamento_3'].tolist()\n",
    "reviews_emb = modelo(reviews)"
   ]
  },
  {
   "cell_type": "code",
   "execution_count": null,
   "metadata": {
    "colab": {
     "base_uri": "https://localhost:8080/"
    },
    "id": "1qP2BppBZPMf",
    "outputId": "86fe4eec-a0f1-4554-f105-0ec6b1dc9d19"
   },
   "outputs": [],
   "source": [
    "from sklearn.metrics.pairwise import cosine_similarity\n",
    "\n",
    "cosine_similarity(reviews_emb)"
   ]
  },
  {
   "cell_type": "markdown",
   "metadata": {
    "id": "1Rp866GtZGqe"
   },
   "source": [
    "**Avaliando as sentenças similares**"
   ]
  },
  {
   "cell_type": "code",
   "execution_count": null,
   "metadata": {
    "id": "gXSaLFIW8OF2"
   },
   "outputs": [],
   "source": [
    "import numpy as np\n",
    "\n",
    "# Função para encontrar as sentenças mais similares a um tema específico\n",
    "def sentencas_similares(tema, reviews, reviews_emb, top_n=5):\n",
    "    \"\"\"\n",
    "    Calcula as sentenças mais similares a um tema específico utilizando similaridade cosseno.\n",
    "    \n",
    "    Parâmetros:\n",
    "    - tema (str): Texto do tema para o qual encontrar sentenças similares.\n",
    "    - reviews (list): Lista contendo as reviews disponíveis.\n",
    "    - reviews_emb (array): Representação vetorial das reviews.\n",
    "    - top_n (int): Número de sentenças similares a retornar (padrão = 5).\n",
    "    \n",
    "    Retorna:\n",
    "    - Exibe as reviews mais similares e suas respectivas similaridades.\n",
    "    \"\"\"\n",
    "    \n",
    "    # Obtém o embedding do tema fornecido\n",
    "    tema_emb = modelo([tema])\n",
    "    \n",
    "    # Calcula a similaridade cosseno entre o tema e todas as reviews\n",
    "    similaridades = cosine_similarity(tema_emb, reviews_emb).flatten()\n",
    "    \n",
    "    # Ordena os índices das reviews com base na similaridade (ordem decrescente)\n",
    "    indices_similares = np.argsort(-similaridades)\n",
    "    \n",
    "    # Itera sobre os top_n resultados e exibe as reviews mais similares\n",
    "    for idx in indices_similares[:top_n]:\n",
    "        print(f'Review: {reviews[idx]} - Similaridade: {similaridades[idx]:.4f}')\n"
   ]
  },
  {
   "cell_type": "code",
   "execution_count": null,
   "metadata": {
    "colab": {
     "base_uri": "https://localhost:8080/"
    },
    "id": "yFDNMHAlZe6Y",
    "outputId": "d153036f-911b-45fa-8da2-2dab66133494"
   },
   "outputs": [
    {
     "name": "stdout",
     "output_type": "stream",
     "text": [
      "Review: eficiente entrega - Similaridade: 0.6829\n",
      "Review: entrega eficiente - Similaridade: 0.6756\n",
      "Review: agil entrega - Similaridade: 0.6563\n",
      "Review: entrega prazo - Similaridade: 0.6473\n",
      "Review: entrega agil - Similaridade: 0.6471\n"
     ]
    }
   ],
   "source": [
    "sentencas_similares('entrega', reviews, reviews_emb)"
   ]
  },
  {
   "cell_type": "code",
   "execution_count": null,
   "metadata": {
    "colab": {
     "base_uri": "https://localhost:8080/"
    },
    "id": "mVFsDvaMZe2S",
    "outputId": "0ee45866-90d7-492e-b800-38b46472cf58"
   },
   "outputs": [
    {
     "name": "stdout",
     "output_type": "stream",
     "text": [
      "Review: otima loja - Similaridade: 0.8578\n",
      "Review: recomento loja - Similaridade: 0.8339\n",
      "Review: pessima loja - Similaridade: 0.8335\n",
      "Review: adorei loja - Similaridade: 0.8170\n",
      "Review: rapidez eficiencia loja - Similaridade: 0.8018\n",
      "Review: loja confianca - Similaridade: 0.7909\n",
      "Review: produto loja confianca - Similaridade: 0.7888\n",
      "Review: loja ruim - Similaridade: 0.7868\n",
      "Review: otimas experiencias loja - Similaridade: 0.7839\n",
      "Review: satisfeita produto loja - Similaridade: 0.7816\n"
     ]
    }
   ],
   "source": [
    "sentencas_similares('reputação loja', reviews, reviews_emb, top_n=10)"
   ]
  }
 ],
 "metadata": {
  "colab": {
   "provenance": []
  },
  "kernelspec": {
   "display_name": "Python 3",
   "name": "python3"
  },
  "language_info": {
   "name": "python"
  },
  "widgets": {
   "application/vnd.jupyter.widget-state+json": {
    "16699f2cc9ff492983943003f7205727": {
     "model_module": "@jupyter-widgets/controls",
     "model_module_version": "1.5.0",
     "model_name": "HTMLModel",
     "state": {
      "_dom_classes": [],
      "_model_module": "@jupyter-widgets/controls",
      "_model_module_version": "1.5.0",
      "_model_name": "HTMLModel",
      "_view_count": null,
      "_view_module": "@jupyter-widgets/controls",
      "_view_module_version": "1.5.0",
      "_view_name": "HTMLView",
      "description": "",
      "description_tooltip": null,
      "layout": "IPY_MODEL_92d29f82d42343e2af3a6c31b98f3f84",
      "placeholder": "​",
      "style": "IPY_MODEL_457be54902834e448c1349a5d8f0ea8b",
      "value": "Downloading https://raw.githubusercontent.com/stanfordnlp/stanza-resources/main/resources_1.9.0.json: "
     }
    },
    "27f1a07bbc6c4c64812572e62a3ae419": {
     "model_module": "@jupyter-widgets/controls",
     "model_module_version": "1.5.0",
     "model_name": "HBoxModel",
     "state": {
      "_dom_classes": [],
      "_model_module": "@jupyter-widgets/controls",
      "_model_module_version": "1.5.0",
      "_model_name": "HBoxModel",
      "_view_count": null,
      "_view_module": "@jupyter-widgets/controls",
      "_view_module_version": "1.5.0",
      "_view_name": "HBoxView",
      "box_style": "",
      "children": [
       "IPY_MODEL_6fd29a8d428a466e806c345f5cecedb5",
       "IPY_MODEL_49ef065591d54c34a2eeb666ddfb5061",
       "IPY_MODEL_8a23eff1337f46f798b2f5e4c31a7570"
      ],
      "layout": "IPY_MODEL_9e71df0b4b7744f5b6f579de6b294329"
     }
    },
    "457be54902834e448c1349a5d8f0ea8b": {
     "model_module": "@jupyter-widgets/controls",
     "model_module_version": "1.5.0",
     "model_name": "DescriptionStyleModel",
     "state": {
      "_model_module": "@jupyter-widgets/controls",
      "_model_module_version": "1.5.0",
      "_model_name": "DescriptionStyleModel",
      "_view_count": null,
      "_view_module": "@jupyter-widgets/base",
      "_view_module_version": "1.2.0",
      "_view_name": "StyleView",
      "description_width": ""
     }
    },
    "492aa5c2c41b48a882c2edb494376561": {
     "model_module": "@jupyter-widgets/base",
     "model_module_version": "1.2.0",
     "model_name": "LayoutModel",
     "state": {
      "_model_module": "@jupyter-widgets/base",
      "_model_module_version": "1.2.0",
      "_model_name": "LayoutModel",
      "_view_count": null,
      "_view_module": "@jupyter-widgets/base",
      "_view_module_version": "1.2.0",
      "_view_name": "LayoutView",
      "align_content": null,
      "align_items": null,
      "align_self": null,
      "border": null,
      "bottom": null,
      "display": null,
      "flex": null,
      "flex_flow": null,
      "grid_area": null,
      "grid_auto_columns": null,
      "grid_auto_flow": null,
      "grid_auto_rows": null,
      "grid_column": null,
      "grid_gap": null,
      "grid_row": null,
      "grid_template_areas": null,
      "grid_template_columns": null,
      "grid_template_rows": null,
      "height": null,
      "justify_content": null,
      "justify_items": null,
      "left": null,
      "margin": null,
      "max_height": null,
      "max_width": null,
      "min_height": null,
      "min_width": null,
      "object_fit": null,
      "object_position": null,
      "order": null,
      "overflow": null,
      "overflow_x": null,
      "overflow_y": null,
      "padding": null,
      "right": null,
      "top": null,
      "visibility": null,
      "width": null
     }
    },
    "49ef065591d54c34a2eeb666ddfb5061": {
     "model_module": "@jupyter-widgets/controls",
     "model_module_version": "1.5.0",
     "model_name": "FloatProgressModel",
     "state": {
      "_dom_classes": [],
      "_model_module": "@jupyter-widgets/controls",
      "_model_module_version": "1.5.0",
      "_model_name": "FloatProgressModel",
      "_view_count": null,
      "_view_module": "@jupyter-widgets/controls",
      "_view_module_version": "1.5.0",
      "_view_name": "ProgressView",
      "bar_style": "success",
      "description": "",
      "description_tooltip": null,
      "layout": "IPY_MODEL_93e7bcabff7b4c56a4f6bd715a5549f5",
      "max": 48453,
      "min": 0,
      "orientation": "horizontal",
      "style": "IPY_MODEL_a5057ab1f41f4b11b8a3d22479260d0a",
      "value": 48453
     }
    },
    "505f6cba54a647dd90db339e31262ec8": {
     "model_module": "@jupyter-widgets/base",
     "model_module_version": "1.2.0",
     "model_name": "LayoutModel",
     "state": {
      "_model_module": "@jupyter-widgets/base",
      "_model_module_version": "1.2.0",
      "_model_name": "LayoutModel",
      "_view_count": null,
      "_view_module": "@jupyter-widgets/base",
      "_view_module_version": "1.2.0",
      "_view_name": "LayoutView",
      "align_content": null,
      "align_items": null,
      "align_self": null,
      "border": null,
      "bottom": null,
      "display": null,
      "flex": null,
      "flex_flow": null,
      "grid_area": null,
      "grid_auto_columns": null,
      "grid_auto_flow": null,
      "grid_auto_rows": null,
      "grid_column": null,
      "grid_gap": null,
      "grid_row": null,
      "grid_template_areas": null,
      "grid_template_columns": null,
      "grid_template_rows": null,
      "height": null,
      "justify_content": null,
      "justify_items": null,
      "left": null,
      "margin": null,
      "max_height": null,
      "max_width": null,
      "min_height": null,
      "min_width": null,
      "object_fit": null,
      "object_position": null,
      "order": null,
      "overflow": null,
      "overflow_x": null,
      "overflow_y": null,
      "padding": null,
      "right": null,
      "top": null,
      "visibility": null,
      "width": null
     }
    },
    "5900f7400596457fb9b3c786767323cf": {
     "model_module": "@jupyter-widgets/controls",
     "model_module_version": "1.5.0",
     "model_name": "ProgressStyleModel",
     "state": {
      "_model_module": "@jupyter-widgets/controls",
      "_model_module_version": "1.5.0",
      "_model_name": "ProgressStyleModel",
      "_view_count": null,
      "_view_module": "@jupyter-widgets/base",
      "_view_module_version": "1.2.0",
      "_view_name": "StyleView",
      "bar_color": null,
      "description_width": ""
     }
    },
    "5909fe1bc05b4cdab3b920984dd5e102": {
     "model_module": "@jupyter-widgets/controls",
     "model_module_version": "1.5.0",
     "model_name": "HBoxModel",
     "state": {
      "_dom_classes": [],
      "_model_module": "@jupyter-widgets/controls",
      "_model_module_version": "1.5.0",
      "_model_name": "HBoxModel",
      "_view_count": null,
      "_view_module": "@jupyter-widgets/controls",
      "_view_module_version": "1.5.0",
      "_view_name": "HBoxView",
      "box_style": "",
      "children": [
       "IPY_MODEL_16699f2cc9ff492983943003f7205727",
       "IPY_MODEL_90cd9fc64271469b8ee168a80dd5d24e",
       "IPY_MODEL_67094fce86754bc68907790be17641a9"
      ],
      "layout": "IPY_MODEL_e3a59a4df5ea476c86cf8f2a03caae87"
     }
    },
    "62b496ee128040d0af5631e4d2e7c72e": {
     "model_module": "@jupyter-widgets/controls",
     "model_module_version": "1.5.0",
     "model_name": "DescriptionStyleModel",
     "state": {
      "_model_module": "@jupyter-widgets/controls",
      "_model_module_version": "1.5.0",
      "_model_name": "DescriptionStyleModel",
      "_view_count": null,
      "_view_module": "@jupyter-widgets/base",
      "_view_module_version": "1.2.0",
      "_view_name": "StyleView",
      "description_width": ""
     }
    },
    "67094fce86754bc68907790be17641a9": {
     "model_module": "@jupyter-widgets/controls",
     "model_module_version": "1.5.0",
     "model_name": "HTMLModel",
     "state": {
      "_dom_classes": [],
      "_model_module": "@jupyter-widgets/controls",
      "_model_module_version": "1.5.0",
      "_model_name": "HTMLModel",
      "_view_count": null,
      "_view_module": "@jupyter-widgets/controls",
      "_view_module_version": "1.5.0",
      "_view_name": "HTMLView",
      "description": "",
      "description_tooltip": null,
      "layout": "IPY_MODEL_492aa5c2c41b48a882c2edb494376561",
      "placeholder": "​",
      "style": "IPY_MODEL_62b496ee128040d0af5631e4d2e7c72e",
      "value": " 392k/? [00:00&lt;00:00, 14.6MB/s]"
     }
    },
    "6ac3f25630594b49977e2470cc573816": {
     "model_module": "@jupyter-widgets/controls",
     "model_module_version": "1.5.0",
     "model_name": "DescriptionStyleModel",
     "state": {
      "_model_module": "@jupyter-widgets/controls",
      "_model_module_version": "1.5.0",
      "_model_name": "DescriptionStyleModel",
      "_view_count": null,
      "_view_module": "@jupyter-widgets/base",
      "_view_module_version": "1.2.0",
      "_view_name": "StyleView",
      "description_width": ""
     }
    },
    "6fd29a8d428a466e806c345f5cecedb5": {
     "model_module": "@jupyter-widgets/controls",
     "model_module_version": "1.5.0",
     "model_name": "HTMLModel",
     "state": {
      "_dom_classes": [],
      "_model_module": "@jupyter-widgets/controls",
      "_model_module_version": "1.5.0",
      "_model_name": "HTMLModel",
      "_view_count": null,
      "_view_module": "@jupyter-widgets/controls",
      "_view_module_version": "1.5.0",
      "_view_name": "HTMLView",
      "description": "",
      "description_tooltip": null,
      "layout": "IPY_MODEL_505f6cba54a647dd90db339e31262ec8",
      "placeholder": "​",
      "style": "IPY_MODEL_f352412a0d7c469993744856e59e5788",
      "value": "Downloading https://raw.githubusercontent.com/stanfordnlp/stanza-resources/main/resources_1.9.0.json: "
     }
    },
    "812569f603f248a0abefaabcbcd8ddfb": {
     "model_module": "@jupyter-widgets/base",
     "model_module_version": "1.2.0",
     "model_name": "LayoutModel",
     "state": {
      "_model_module": "@jupyter-widgets/base",
      "_model_module_version": "1.2.0",
      "_model_name": "LayoutModel",
      "_view_count": null,
      "_view_module": "@jupyter-widgets/base",
      "_view_module_version": "1.2.0",
      "_view_name": "LayoutView",
      "align_content": null,
      "align_items": null,
      "align_self": null,
      "border": null,
      "bottom": null,
      "display": null,
      "flex": null,
      "flex_flow": null,
      "grid_area": null,
      "grid_auto_columns": null,
      "grid_auto_flow": null,
      "grid_auto_rows": null,
      "grid_column": null,
      "grid_gap": null,
      "grid_row": null,
      "grid_template_areas": null,
      "grid_template_columns": null,
      "grid_template_rows": null,
      "height": null,
      "justify_content": null,
      "justify_items": null,
      "left": null,
      "margin": null,
      "max_height": null,
      "max_width": null,
      "min_height": null,
      "min_width": null,
      "object_fit": null,
      "object_position": null,
      "order": null,
      "overflow": null,
      "overflow_x": null,
      "overflow_y": null,
      "padding": null,
      "right": null,
      "top": null,
      "visibility": null,
      "width": null
     }
    },
    "8a23eff1337f46f798b2f5e4c31a7570": {
     "model_module": "@jupyter-widgets/controls",
     "model_module_version": "1.5.0",
     "model_name": "HTMLModel",
     "state": {
      "_dom_classes": [],
      "_model_module": "@jupyter-widgets/controls",
      "_model_module_version": "1.5.0",
      "_model_name": "HTMLModel",
      "_view_count": null,
      "_view_module": "@jupyter-widgets/controls",
      "_view_module_version": "1.5.0",
      "_view_name": "HTMLView",
      "description": "",
      "description_tooltip": null,
      "layout": "IPY_MODEL_812569f603f248a0abefaabcbcd8ddfb",
      "placeholder": "​",
      "style": "IPY_MODEL_6ac3f25630594b49977e2470cc573816",
      "value": " 392k/? [00:00&lt;00:00, 12.0MB/s]"
     }
    },
    "90cd9fc64271469b8ee168a80dd5d24e": {
     "model_module": "@jupyter-widgets/controls",
     "model_module_version": "1.5.0",
     "model_name": "FloatProgressModel",
     "state": {
      "_dom_classes": [],
      "_model_module": "@jupyter-widgets/controls",
      "_model_module_version": "1.5.0",
      "_model_name": "FloatProgressModel",
      "_view_count": null,
      "_view_module": "@jupyter-widgets/controls",
      "_view_module_version": "1.5.0",
      "_view_name": "ProgressView",
      "bar_style": "success",
      "description": "",
      "description_tooltip": null,
      "layout": "IPY_MODEL_c4cad996099741b9b7e9d0b83643f1ab",
      "max": 48453,
      "min": 0,
      "orientation": "horizontal",
      "style": "IPY_MODEL_5900f7400596457fb9b3c786767323cf",
      "value": 48453
     }
    },
    "92d29f82d42343e2af3a6c31b98f3f84": {
     "model_module": "@jupyter-widgets/base",
     "model_module_version": "1.2.0",
     "model_name": "LayoutModel",
     "state": {
      "_model_module": "@jupyter-widgets/base",
      "_model_module_version": "1.2.0",
      "_model_name": "LayoutModel",
      "_view_count": null,
      "_view_module": "@jupyter-widgets/base",
      "_view_module_version": "1.2.0",
      "_view_name": "LayoutView",
      "align_content": null,
      "align_items": null,
      "align_self": null,
      "border": null,
      "bottom": null,
      "display": null,
      "flex": null,
      "flex_flow": null,
      "grid_area": null,
      "grid_auto_columns": null,
      "grid_auto_flow": null,
      "grid_auto_rows": null,
      "grid_column": null,
      "grid_gap": null,
      "grid_row": null,
      "grid_template_areas": null,
      "grid_template_columns": null,
      "grid_template_rows": null,
      "height": null,
      "justify_content": null,
      "justify_items": null,
      "left": null,
      "margin": null,
      "max_height": null,
      "max_width": null,
      "min_height": null,
      "min_width": null,
      "object_fit": null,
      "object_position": null,
      "order": null,
      "overflow": null,
      "overflow_x": null,
      "overflow_y": null,
      "padding": null,
      "right": null,
      "top": null,
      "visibility": null,
      "width": null
     }
    },
    "93e7bcabff7b4c56a4f6bd715a5549f5": {
     "model_module": "@jupyter-widgets/base",
     "model_module_version": "1.2.0",
     "model_name": "LayoutModel",
     "state": {
      "_model_module": "@jupyter-widgets/base",
      "_model_module_version": "1.2.0",
      "_model_name": "LayoutModel",
      "_view_count": null,
      "_view_module": "@jupyter-widgets/base",
      "_view_module_version": "1.2.0",
      "_view_name": "LayoutView",
      "align_content": null,
      "align_items": null,
      "align_self": null,
      "border": null,
      "bottom": null,
      "display": null,
      "flex": null,
      "flex_flow": null,
      "grid_area": null,
      "grid_auto_columns": null,
      "grid_auto_flow": null,
      "grid_auto_rows": null,
      "grid_column": null,
      "grid_gap": null,
      "grid_row": null,
      "grid_template_areas": null,
      "grid_template_columns": null,
      "grid_template_rows": null,
      "height": null,
      "justify_content": null,
      "justify_items": null,
      "left": null,
      "margin": null,
      "max_height": null,
      "max_width": null,
      "min_height": null,
      "min_width": null,
      "object_fit": null,
      "object_position": null,
      "order": null,
      "overflow": null,
      "overflow_x": null,
      "overflow_y": null,
      "padding": null,
      "right": null,
      "top": null,
      "visibility": null,
      "width": null
     }
    },
    "9e71df0b4b7744f5b6f579de6b294329": {
     "model_module": "@jupyter-widgets/base",
     "model_module_version": "1.2.0",
     "model_name": "LayoutModel",
     "state": {
      "_model_module": "@jupyter-widgets/base",
      "_model_module_version": "1.2.0",
      "_model_name": "LayoutModel",
      "_view_count": null,
      "_view_module": "@jupyter-widgets/base",
      "_view_module_version": "1.2.0",
      "_view_name": "LayoutView",
      "align_content": null,
      "align_items": null,
      "align_self": null,
      "border": null,
      "bottom": null,
      "display": null,
      "flex": null,
      "flex_flow": null,
      "grid_area": null,
      "grid_auto_columns": null,
      "grid_auto_flow": null,
      "grid_auto_rows": null,
      "grid_column": null,
      "grid_gap": null,
      "grid_row": null,
      "grid_template_areas": null,
      "grid_template_columns": null,
      "grid_template_rows": null,
      "height": null,
      "justify_content": null,
      "justify_items": null,
      "left": null,
      "margin": null,
      "max_height": null,
      "max_width": null,
      "min_height": null,
      "min_width": null,
      "object_fit": null,
      "object_position": null,
      "order": null,
      "overflow": null,
      "overflow_x": null,
      "overflow_y": null,
      "padding": null,
      "right": null,
      "top": null,
      "visibility": null,
      "width": null
     }
    },
    "a5057ab1f41f4b11b8a3d22479260d0a": {
     "model_module": "@jupyter-widgets/controls",
     "model_module_version": "1.5.0",
     "model_name": "ProgressStyleModel",
     "state": {
      "_model_module": "@jupyter-widgets/controls",
      "_model_module_version": "1.5.0",
      "_model_name": "ProgressStyleModel",
      "_view_count": null,
      "_view_module": "@jupyter-widgets/base",
      "_view_module_version": "1.2.0",
      "_view_name": "StyleView",
      "bar_color": null,
      "description_width": ""
     }
    },
    "c4cad996099741b9b7e9d0b83643f1ab": {
     "model_module": "@jupyter-widgets/base",
     "model_module_version": "1.2.0",
     "model_name": "LayoutModel",
     "state": {
      "_model_module": "@jupyter-widgets/base",
      "_model_module_version": "1.2.0",
      "_model_name": "LayoutModel",
      "_view_count": null,
      "_view_module": "@jupyter-widgets/base",
      "_view_module_version": "1.2.0",
      "_view_name": "LayoutView",
      "align_content": null,
      "align_items": null,
      "align_self": null,
      "border": null,
      "bottom": null,
      "display": null,
      "flex": null,
      "flex_flow": null,
      "grid_area": null,
      "grid_auto_columns": null,
      "grid_auto_flow": null,
      "grid_auto_rows": null,
      "grid_column": null,
      "grid_gap": null,
      "grid_row": null,
      "grid_template_areas": null,
      "grid_template_columns": null,
      "grid_template_rows": null,
      "height": null,
      "justify_content": null,
      "justify_items": null,
      "left": null,
      "margin": null,
      "max_height": null,
      "max_width": null,
      "min_height": null,
      "min_width": null,
      "object_fit": null,
      "object_position": null,
      "order": null,
      "overflow": null,
      "overflow_x": null,
      "overflow_y": null,
      "padding": null,
      "right": null,
      "top": null,
      "visibility": null,
      "width": null
     }
    },
    "e3a59a4df5ea476c86cf8f2a03caae87": {
     "model_module": "@jupyter-widgets/base",
     "model_module_version": "1.2.0",
     "model_name": "LayoutModel",
     "state": {
      "_model_module": "@jupyter-widgets/base",
      "_model_module_version": "1.2.0",
      "_model_name": "LayoutModel",
      "_view_count": null,
      "_view_module": "@jupyter-widgets/base",
      "_view_module_version": "1.2.0",
      "_view_name": "LayoutView",
      "align_content": null,
      "align_items": null,
      "align_self": null,
      "border": null,
      "bottom": null,
      "display": null,
      "flex": null,
      "flex_flow": null,
      "grid_area": null,
      "grid_auto_columns": null,
      "grid_auto_flow": null,
      "grid_auto_rows": null,
      "grid_column": null,
      "grid_gap": null,
      "grid_row": null,
      "grid_template_areas": null,
      "grid_template_columns": null,
      "grid_template_rows": null,
      "height": null,
      "justify_content": null,
      "justify_items": null,
      "left": null,
      "margin": null,
      "max_height": null,
      "max_width": null,
      "min_height": null,
      "min_width": null,
      "object_fit": null,
      "object_position": null,
      "order": null,
      "overflow": null,
      "overflow_x": null,
      "overflow_y": null,
      "padding": null,
      "right": null,
      "top": null,
      "visibility": null,
      "width": null
     }
    },
    "f352412a0d7c469993744856e59e5788": {
     "model_module": "@jupyter-widgets/controls",
     "model_module_version": "1.5.0",
     "model_name": "DescriptionStyleModel",
     "state": {
      "_model_module": "@jupyter-widgets/controls",
      "_model_module_version": "1.5.0",
      "_model_name": "DescriptionStyleModel",
      "_view_count": null,
      "_view_module": "@jupyter-widgets/base",
      "_view_module_version": "1.2.0",
      "_view_name": "StyleView",
      "description_width": ""
     }
    }
   }
  }
 },
 "nbformat": 4,
 "nbformat_minor": 0
}
